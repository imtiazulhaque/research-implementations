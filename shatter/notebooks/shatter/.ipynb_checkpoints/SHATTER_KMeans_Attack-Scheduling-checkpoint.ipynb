{
 "cells": [
  {
   "cell_type": "markdown",
   "id": "8236b6b8",
   "metadata": {},
   "source": [
    "# Importing Libraries"
   ]
  },
  {
   "cell_type": "code",
   "execution_count": 1,
   "id": "716e38e1",
   "metadata": {},
   "outputs": [],
   "source": [
    "import pandas as pd\n",
    "import numpy as np\n",
    "import matplotlib.pyplot as plt\n",
    "from z3 import *\n",
    "from sklearn.cluster import DBSCAN\n",
    "from scipy.spatial import ConvexHull, convex_hull_plot_2d\n",
    "import sys\n",
    "import warnings\n",
    "warnings.filterwarnings(\"ignore\")\n",
    "import json"
   ]
  },
  {
   "cell_type": "markdown",
   "id": "3f033365",
   "metadata": {},
   "source": [
    "# FIXED PARAMETERS"
   ]
  },
  {
   "cell_type": "code",
   "execution_count": 2,
   "id": "cf50be11",
   "metadata": {},
   "outputs": [],
   "source": [
    "NUM_ZONES = 5"
   ]
  },
  {
   "cell_type": "markdown",
   "id": "26431f91",
   "metadata": {},
   "source": [
    "# Clustering"
   ]
  },
  {
   "cell_type": "code",
   "execution_count": 3,
   "id": "49ba538c",
   "metadata": {},
   "outputs": [],
   "source": [
    "# returns dbscan clusters\n",
    "def dbscan(X, eps, min_samples):\n",
    "    db = DBSCAN(eps=eps, min_samples=min_samples)\n",
    "    cluster = db.fit(X)\n",
    "    #y_pred = db.fit_predict(X)\n",
    "    #plt.scatter(X[:,0], X[:,1],c=y_pred, cmap='Paired')\n",
    "    #plt.title(\"DBSCAN\")\n",
    "    #print(\"noise\", sum(cluster.labels_ ==-1), \"regular\", sum(cluster.labels_ !=-1))\n",
    "    #print(np.unique(cluster.labels_))\n",
    "    return cluster"
   ]
  },
  {
   "cell_type": "markdown",
   "id": "c350d322",
   "metadata": {},
   "source": [
    "# Convex Hull"
   ]
  },
  {
   "cell_type": "code",
   "execution_count": 4,
   "id": "0cce8846",
   "metadata": {},
   "outputs": [],
   "source": [
    "# returns convex hull of points associated with zones\n",
    "def convex_hull(zone, points):\n",
    "        '''\n",
    "        Parameters\n",
    "        ----------\n",
    "        points : Array\n",
    "            A set of points.\n",
    "            \n",
    "        Returns\n",
    "        -------\n",
    "        vertices : Points\n",
    "            Arranges convex hull vertices in counter-clockwise orientation.\n",
    "        '''    \n",
    "        \n",
    "        hull = ConvexHull(points)\n",
    "        \n",
    "        \n",
    "        #plt.plot(points[:,0], points[:,1], 'o')\n",
    "        #plt.ylim(0,120)\n",
    "        #for simplex in hull.simplices:\n",
    "        #    plt.plot(points[simplex, 0], points[simplex, 1], 'k-')\n",
    "            \n",
    "        simplices = hull.simplices\n",
    "        \n",
    "        vertices = []\n",
    "        for index in hull.vertices:\n",
    "            vertices.append((points[index][0], zone, points[index][1]))\n",
    "        vertices.append((points[hull.vertices[0]][0], zone, points[hull.vertices[0]][1]))\n",
    "        \n",
    "        return vertices"
   ]
  },
  {
   "cell_type": "markdown",
   "id": "a1b398e1",
   "metadata": {},
   "source": [
    "# Cluster Boundary Acquisition"
   ]
  },
  {
   "cell_type": "code",
   "execution_count": 5,
   "id": "1312443c",
   "metadata": {},
   "outputs": [],
   "source": [
    "def get_cluster(dataframe, eps, min_samples):\n",
    "    list_cluster = []\n",
    "    for zone in range(NUM_ZONES):\n",
    "        #plt.figure()\n",
    "        mod_dataframe = pd.DataFrame()\n",
    "\n",
    "        for i in range(len(dataframe)):\n",
    "            if int(dataframe['Occupant\\'s Zone'][i] == zone):\n",
    "                mod_dataframe = mod_dataframe.append(dataframe.loc[i, ['Zone Arrival Time (Minute)', 'Stay Duration (Minute)']])\n",
    "\n",
    "        features = np.empty([len(mod_dataframe), 2])\n",
    "        features[:, 0:1] = mod_dataframe.loc[:, ['Zone Arrival Time (Minute)']].values\n",
    "        features[:, 1:] = mod_dataframe.loc[:, ['Stay Duration (Minute)']].values\n",
    "        cluster_model = dbscan(features, eps, min_samples)\n",
    "        labels = cluster_model.labels_\n",
    "        \n",
    "        n_clusters = len(set(labels)) - (1 if -1 in labels else 0)\n",
    "        for cluster in range(n_clusters):\n",
    "            points = []\n",
    "            for k in range(len(labels)):\n",
    "                if labels[k] == cluster:\n",
    "                    points.append(features[k])\n",
    "            points = np.array(points)\n",
    "\n",
    "            if len(points) >= 3:\n",
    "                try:\n",
    "                    vertices = convex_hull(zone, points)\n",
    "                except:\n",
    "                    print(\"Exception\")\n",
    "            else:\n",
    "                print(\"zone\", zone, \"Problem Found!\")\n",
    "\n",
    "            list_cluster.append({\"zone_id\": zone, \"cluster_id\": cluster, \"points\": vertices})\n",
    "\n",
    "    return list_cluster"
   ]
  },
  {
   "cell_type": "markdown",
   "id": "32dcb5fb",
   "metadata": {},
   "source": [
    "# Clustering for House-A and Occupant-1"
   ]
  },
  {
   "cell_type": "code",
   "execution_count": 6,
   "id": "a12abc34",
   "metadata": {
    "scrolled": false
   },
   "outputs": [
    {
     "name": "stdout",
     "output_type": "stream",
     "text": [
      "Exception\n"
     ]
    }
   ],
   "source": [
    "cleaned_duration_dataframe_house_A_occ_1 = pd.read_csv(\"../../data/cleaned/Cleaned-Dataframe_House-A_Occupant-1.csv\")\n",
    "cleaned_duration_dataframe_house_A_occ_1\n",
    "clusters_house_A_occ_1 = get_cluster(cleaned_duration_dataframe_house_A_occ_1, 30, 3)\n",
    "# saving clusters to file\n",
    "with open('../../data/shatter/Clusters-House_A_Occ-1.txt', 'w') as f:\n",
    "    f.write(json.dumps(clusters_house_A_occ_1))"
   ]
  },
  {
   "cell_type": "markdown",
   "id": "86360345",
   "metadata": {},
   "source": [
    "# Clustering for House-A and Occupant-2"
   ]
  },
  {
   "cell_type": "code",
   "execution_count": 7,
   "id": "86308ec6",
   "metadata": {},
   "outputs": [],
   "source": [
    "cleaned_duration_dataframe_house_A_occ_2 = pd.read_csv(\"../../data/cleaned/Cleaned-Dataframe_House-A_Occupant-2.csv\")\n",
    "cleaned_duration_dataframe_house_A_occ_2\n",
    "clusters_house_A_occ_2 = get_cluster(cleaned_duration_dataframe_house_A_occ_2, 26, 3)\n",
    "# saving clusters to file\n",
    "with open('../../data/shatter/Clusters-House_A_Occ-2.txt', 'w') as f:\n",
    "    f.write(json.dumps(clusters_house_A_occ_2))"
   ]
  },
  {
   "cell_type": "markdown",
   "id": "e1a1439a",
   "metadata": {},
   "source": [
    "# Clustering for House-B and Occupant-1"
   ]
  },
  {
   "cell_type": "code",
   "execution_count": 8,
   "id": "5e102812",
   "metadata": {},
   "outputs": [],
   "source": [
    "cleaned_duration_dataframe_house_B_occ_1 = pd.read_csv(\"../../data/cleaned/Cleaned-Dataframe_House-B_Occupant-1.csv\")\n",
    "cleaned_duration_dataframe_house_B_occ_1\n",
    "clusters_house_B_occ_1 = get_cluster(cleaned_duration_dataframe_house_B_occ_1, 30, 3)\n",
    "# saving clusters to file\n",
    "with open('../../data/shatter/Clusters-House_B_Occ-1.txt', 'w') as f:\n",
    "    f.write(json.dumps(clusters_house_B_occ_1))"
   ]
  },
  {
   "cell_type": "markdown",
   "id": "8899fa69",
   "metadata": {},
   "source": [
    "# Clustering for House-B and Occupant-2"
   ]
  },
  {
   "cell_type": "code",
   "execution_count": 9,
   "id": "9f16b67a",
   "metadata": {},
   "outputs": [
    {
     "name": "stdout",
     "output_type": "stream",
     "text": [
      "Exception\n",
      "Exception\n",
      "Exception\n"
     ]
    }
   ],
   "source": [
    "cleaned_duration_dataframe_house_B_occ_2 = pd.read_csv(\"../../data/cleaned/Cleaned-Dataframe_House-B_Occupant-2.csv\")\n",
    "cleaned_duration_dataframe_house_B_occ_2\n",
    "clusters_house_B_occ_2 = get_cluster(cleaned_duration_dataframe_house_B_occ_2, 30, 3)\n",
    "# saving clusters to file\n",
    "with open('../../data/shatter/Clusters-House_B_Occ-2.txt', 'w') as f:\n",
    "    f.write(json.dumps(clusters_house_B_occ_2))"
   ]
  },
  {
   "cell_type": "markdown",
   "id": "d7401b6e",
   "metadata": {},
   "source": [
    "# Range Claculation Function"
   ]
  },
  {
   "cell_type": "code",
   "execution_count": 10,
   "id": "a1e93aba",
   "metadata": {},
   "outputs": [],
   "source": [
    "def is_left( x, y, init_x, init_y, final_x, final_y):\n",
    "     return ((final_x - init_x)*(y - init_y) - (final_y - init_y)*(x - init_x)) >= 0\n",
    "\n",
    "def range_calculation(list_cluster):\n",
    "    num_timeslots = 1440\n",
    "    list_time_min = [[[] for j in range(num_timeslots)] for i in range(NUM_ZONES + 1)]\n",
    "    list_time_max = [[[] for j in range(num_timeslots)] for i in range(NUM_ZONES + 1)]\n",
    "\n",
    "    for i in range(len(list_cluster)):\n",
    "        zone_id = list_cluster[i][\"zone_id\"]\n",
    "        min_x_range = 1440\n",
    "        max_x_range = 0\n",
    "\n",
    "        ##################################################################\n",
    "        ##################### Zone Constraints ###########################\n",
    "        ##################################################################\n",
    "        x = Int('x')\n",
    "        y = Int('y')\n",
    "\n",
    "        points = list_cluster[i][\"points\"]\n",
    "        zone_constraints = []\n",
    "\n",
    "        and_constraints = []\n",
    "        for j in range(len(points) - 1):\n",
    "            and_constraints.append(is_left(x, y, points[j][0], points[j][2], points[j + 1][0], points[j + 1][2]))\n",
    "\n",
    "        zone_constraints.append(And(and_constraints))\n",
    "\n",
    "        #print(zone_constraints)\n",
    "        ####### Minimum value of X range #######\n",
    "        o = Optimize()\n",
    "        o.add(zone_constraints)\n",
    "        o.minimize(x)\n",
    "        o.check()\n",
    "        \n",
    "        min_x_range = int(str(o.model()[x]))\n",
    "\n",
    "        ####### Maximum value of X range #######\n",
    "        o = Optimize()\n",
    "        o.add(zone_constraints)\n",
    "        o.maximize(x)\n",
    "        o.check()\n",
    "        #print(o.model()[x])\n",
    "\n",
    "        max_x_range = int(str(o.model()[x]))\n",
    "        \n",
    "        \n",
    "        for j in range(min_x_range, max_x_range):\n",
    "            ####### Minimum value of Y range #######\n",
    "            o = Optimize()\n",
    "            o.add(zone_constraints)\n",
    "            o.add(x == j)\n",
    "            o.minimize(y)\n",
    "            o.check()\n",
    "\n",
    "            min_y_range = o.model()[y]\n",
    "            if min_y_range == None:\n",
    "                min_y_range = 0\n",
    "\n",
    "            ####### Maximum value of Y range #######\n",
    "            o = Optimize()\n",
    "            o.add(zone_constraints)\n",
    "            o.add(x == j)\n",
    "            o.maximize(y)\n",
    "            o.check()\n",
    "\n",
    "            max_y_range = o.model()[y]\n",
    "            if max_y_range == None:\n",
    "                max_y_range = 0\n",
    "                \n",
    "            list_time_min[zone_id][j].append(int(str(min_y_range)))\n",
    "            list_time_max[zone_id][j].append(int(str(max_y_range)))\n",
    "    return list_time_min, list_time_max"
   ]
  },
  {
   "cell_type": "markdown",
   "id": "5404990e",
   "metadata": {},
   "source": [
    "# Attack Scheduling Function"
   ]
  },
  {
   "cell_type": "code",
   "execution_count": 11,
   "id": "d142dc34",
   "metadata": {},
   "outputs": [],
   "source": [
    "def attack_scheduling(list_cluster, num_timeslots, start_time, final_time):\n",
    "    list_time_min, list_time_max = range_calculation(list_cluster)\n",
    "    num_timeslots = interval = 10\n",
    "\n",
    "    prev_stay = 1\n",
    "    prev_schedule = -1\n",
    "    ultimate_cost = 0\n",
    "    final_schedule = schedule = np.zeros((final_time - start_time))\n",
    "\n",
    "    for init_time in range(start_time, final_time, interval):\n",
    "        cost = [Int( 'cost_' + str(i)) for i in range(NUM_ZONES)]\n",
    "        zones = [Int( 'zones_' + str(i)) for i in range(NUM_ZONES)]\n",
    "\n",
    "        schedule = [Int( 'schedule_' + str(i)) for i in range(init_time, init_time + interval)]\n",
    "        stay = [Int( 'stay_' + str(i)) for i in range(num_timeslots)]\n",
    "        slot_cost = [Int( 'slot_cost_' + str(i)) for i in range(num_timeslots)]\n",
    "\n",
    "        total_cost = Int('total_cost')\n",
    "\n",
    "        o = Optimize()\n",
    "        o.add(cost[0] == 0)\n",
    "        o.add(cost[1] == 1)\n",
    "        o.add(cost[2] == 2)\n",
    "        o.add(cost[3] == 4)\n",
    "        o.add(cost[4] == 3)\n",
    "\n",
    "\n",
    "        ############################################################################\n",
    "        ################## schedule should be withing a valid zone #################\n",
    "        ############################################################################\n",
    "        for t in range(len(schedule)):\n",
    "            or_constraints = []\n",
    "            for z in range(NUM_ZONES):\n",
    "                or_constraints.append(schedule[t] == z)\n",
    "            o.add(Or(or_constraints))\n",
    "\n",
    "        ###############################################################################################################\n",
    "        ################## if zone stay threshdold in current time is 0, do not schedule to that zone #################\n",
    "        ###############################################################################################################\n",
    "\n",
    "        # base case\n",
    "        for z in range(1, NUM_ZONES):\n",
    "            if list_time_min[z][init_time] == [] or (len(list_time_max[z][init_time]) == 1 and list_time_max[z][init_time][0] == 0):\n",
    "                o.add(Implies(schedule[0] != prev_schedule, schedule[t] != z))\n",
    "\n",
    "        for t in range(1, len(schedule)):\n",
    "            for z in range(1, NUM_ZONES):\n",
    "                if list_time_min[z][init_time + t] == [] or (len(list_time_max[z][init_time + t]) == 1 and list_time_max[z][init_time + t][0] == 0):\n",
    "                    o.add(Implies(schedule[t] != schedule[t - 1], schedule[t] != z))\n",
    "\n",
    "        #######################################################################################################################\n",
    "        ############################################ constraints of stay ######################################################\n",
    "        #######################################################################################################################\n",
    "        ######## base case for time 0 ############\n",
    "        if init_time == 0:\n",
    "            o.add(stay[0] == 1)\n",
    "        else:\n",
    "            o.add(Implies(schedule[0] == prev_schedule, stay[0] == prev_stay + 1))\n",
    "            o.add(Implies(Not(schedule[0] == prev_schedule), stay[0] == 1))\n",
    "\n",
    "        for t in range(1, len(schedule)):\n",
    "            continue_staying = (schedule[t] == schedule[t - 1])\n",
    "            increment_stay = (stay[t] == stay[t - 1] + 1)\n",
    "            reset_stay = (stay[t] == 1)\n",
    "\n",
    "            o.add(Implies(continue_staying, increment_stay))\n",
    "            o.add(Implies(Not(continue_staying), reset_stay))\n",
    "\n",
    "        #######################################################################################################################\n",
    "        ############ move to a zone different that previous timeslot if stay > max threshold in previous timeslot #############\n",
    "        #######################################################################################################################\n",
    "        ######## base case for time 0 ############\n",
    "        o.add(Implies(prev_stay == max(list_time_max[prev_schedule][init_time - prev_stay], default=0), schedule[0] != prev_schedule))\n",
    "\n",
    "        for t in range(1, len(schedule)):\n",
    "            max_stay_threshold = 0\n",
    "            for z in range(1, NUM_ZONES):\n",
    "                for p_t in range(1, init_time + len(schedule)):\n",
    "                    continue_staying = (schedule[t] == schedule[t - 1])\n",
    "                    o.add(Implies(And(schedule[t - 1] == z, stay[t - 1] == p_t, p_t == max(list_time_max[z][init_time + t - p_t], default=0)), Not(continue_staying)))\n",
    "\n",
    "        #######################################################################################################################\n",
    "        # must stay in the zone same as the previous timeslot if stay < max && stay is in previous timeslot is out of cluster #\n",
    "        #######################################################################################################################\n",
    "        ######## base case for time 0 ############\n",
    "        ranges_stay_constraints = []\n",
    "        for k in range(len(list_time_min[prev_schedule][init_time - prev_stay])):\n",
    "            ranges_stay_constraints.append(And(prev_stay >= list_time_min[prev_schedule][init_time - prev_stay][k], prev_stay <= list_time_max[prev_schedule][init_time - prev_stay][k]))            \n",
    "\n",
    "        if init_time != 0:\n",
    "            o.add(Implies(Not(Or(ranges_stay_constraints)), schedule[0] == prev_schedule))\n",
    "\n",
    "        for t in range(1, len(schedule)):\n",
    "            for z in range(1, NUM_ZONES):\n",
    "                for p_t in range(1, init_time + t + 1):\n",
    "                    ranges_stay_constraints = []\n",
    "                    for k in range(len(list_time_min[z][init_time + t - p_t])):\n",
    "                        ranges_stay_constraints.append(And(p_t >= list_time_min[z][init_time + t - p_t][k], p_t <= list_time_max[z][init_time + t - p_t][k]))            \n",
    "\n",
    "                    continue_staying = (schedule[t] == schedule[t - 1])\n",
    "                    o.add(Implies(And(schedule[t - 1] == z, stay[t - 1] == p_t, Not(Or(ranges_stay_constraints))), continue_staying))\n",
    "\n",
    "        for t in range(len(schedule)):\n",
    "            for z in range(NUM_ZONES):\n",
    "                o.add(Implies(schedule[t] == z, slot_cost[t] == cost[z]))\n",
    "\n",
    "        o.add(total_cost == Sum(slot_cost))\n",
    "\n",
    "        #o.add(schedule[0] == 3)\n",
    "\n",
    "        o.maximize(total_cost)\n",
    "\n",
    "        print(o.check())\n",
    "        print(init_time, o.model()[total_cost])\n",
    "        ultimate_cost += int(str(o.model()[total_cost]))\n",
    "\n",
    "        print(\"Ulimate Cost\", init_time, ultimate_cost)\n",
    "\n",
    "        print(\"Num_timeslot\", num_timeslots, \"Optimal_cost\", o.model()[total_cost])\n",
    "\n",
    "        for t in range(num_timeslots):\n",
    "            print(\"schedule_\" + str(init_time + t), o.model()[schedule[t]])\n",
    "            final_schedule[init_time + t] = int(str(o.model()[schedule[t]]))\n",
    "\n",
    "        for t in range(num_timeslots):\n",
    "            print(\"stay_\" + str(init_time + t), o.model()[stay[t]])\n",
    "\n",
    "        prev_schedule = int(str(o.model()[schedule[-1]]))\n",
    "        prev_stay = int(str(o.model()[stay[-1]]))\n",
    "    return final_schedule"
   ]
  },
  {
   "cell_type": "markdown",
   "id": "465bb41e",
   "metadata": {},
   "source": [
    "# Greedy Scheduling Function"
   ]
  },
  {
   "cell_type": "code",
   "execution_count": 12,
   "id": "ceb62501",
   "metadata": {},
   "outputs": [],
   "source": [
    "def greedy_schedule(list_cluster, num_timeslots):\n",
    "    current_timeslot = 0\n",
    "    final_timeslot = 0\n",
    "\n",
    "    alternate_schedule = np.zeros((num_timeslots))\n",
    "    list_time_min, list_time_max = range_calculation(list_cluster)\n",
    "    while final_timeslot <= 1439:\n",
    "        for zone in [3, 4, 2, 1, 0]:\n",
    "            max_list = list_time_max[zone][current_timeslot]\n",
    "            for m in range(len(max_list)):\n",
    "                max_list[m] = int(str(max_list[m]))\n",
    "            if max_list == []:\n",
    "                if zone == 0:\n",
    "                    print(\"Critical\", current_timeslot)\n",
    "                    final_timeslot = current_timeslot + 1\n",
    "                    alternate_schedule[current_timeslot: final_timeslot] = 0\n",
    "                    current_timeslot = final_timeslot\n",
    "                continue\n",
    "            max_val = max(max_list)\n",
    "            if max_val == 0:\n",
    "                final_timeslot = current_timeslot + 1\n",
    "                alternate_schedule[current_timeslot: final_timeslot] = 0\n",
    "                current_timeslot = final_timeslot\n",
    "            if max_val != 0:\n",
    "                final_timeslot = current_timeslot + max_val\n",
    "                print(\"Here\", current_timeslot, final_timeslot)\n",
    "                alternate_schedule[current_timeslot: final_timeslot] = zone\n",
    "                print(\"selected zone\", zone)\n",
    "                current_timeslot = final_timeslot\n",
    "                break\n",
    "    return alternate_schedule"
   ]
  },
  {
   "cell_type": "markdown",
   "id": "7a906a79",
   "metadata": {},
   "source": [
    "# Variable Parameters"
   ]
  },
  {
   "cell_type": "code",
   "execution_count": 13,
   "id": "2b52f344",
   "metadata": {},
   "outputs": [],
   "source": [
    "num_timeslots = interval = 10\n",
    "start_time = 0\n",
    "final_time = 1440"
   ]
  },
  {
   "cell_type": "markdown",
   "id": "395d7090",
   "metadata": {},
   "source": [
    "# House-A Occupant-1 Attack Schedule"
   ]
  },
  {
   "cell_type": "code",
   "execution_count": null,
   "id": "38055d91",
   "metadata": {},
   "outputs": [],
   "source": [
    "schedule_house_A_occ_1 = attack_scheduling(clusters_house_A_occ_1, num_timeslots, start_time, final_time)\n",
    "pd.DataFrame(schedule_house_A_occ_1, columns = [\"Schedule\"], dtype='int64').to_csv(\"../../data/shatter/House-A_Occ-1_SHATTER_Schedule.csv\", index = False)"
   ]
  },
  {
   "cell_type": "markdown",
   "id": "4332e922",
   "metadata": {},
   "source": [
    "# House-A Occupant-1 Greedy Schedule"
   ]
  },
  {
   "cell_type": "code",
   "execution_count": null,
   "id": "4e7ee20f",
   "metadata": {},
   "outputs": [],
   "source": [
    "greedy_schedule_house_A_occ_1 = greedy_schedule(clusters_house_A_occ_1, 1440)\n",
    "pd.DataFrame(greedy_schedule_house_A_occ_1, columns = [\"Schedule\"], dtype='int64').to_csv(\"../../data/shatter/House-A_Occ-1_Greedy_Schedule.csv\", index = False)"
   ]
  },
  {
   "cell_type": "markdown",
   "id": "f135fea7",
   "metadata": {},
   "source": [
    "# House-A Occupant-2 Attack Schedule"
   ]
  },
  {
   "cell_type": "code",
   "execution_count": null,
   "id": "e56fd04f",
   "metadata": {},
   "outputs": [],
   "source": [
    "schedule_house_A_occ_2 = attack_scheduling(clusters_house_A_occ_2, num_timeslots, start_time, final_time)\n",
    "pd.DataFrame(schedule_house_A_occ_2, columns = [\"Schedule\"], dtype='int64').to_csv(\"../../data/shatter/House-A_Occ-2_SHATTER_Schedule.csv\", index = False)"
   ]
  },
  {
   "cell_type": "markdown",
   "id": "18eb02b3",
   "metadata": {},
   "source": [
    "# House-A Occupant-2 Greedy Schedule"
   ]
  },
  {
   "cell_type": "code",
   "execution_count": null,
   "id": "656bcc6d",
   "metadata": {},
   "outputs": [],
   "source": [
    "greedy_schedule_house_A_occ_2 = greedy_schedule(clusters_house_A_occ_2, 1440)\n",
    "pd.DataFrame(greedy_schedule_house_A_occ_2, columns = [\"Schedule\"], dtype='int64').to_csv(\"../../data/shatter/House-A_Occ-2_Greedy_Schedule.csv\", index = False)"
   ]
  },
  {
   "cell_type": "markdown",
   "id": "65885f21",
   "metadata": {},
   "source": [
    "# House-B Occupant-1 Attack Schedule"
   ]
  },
  {
   "cell_type": "code",
   "execution_count": null,
   "id": "cc936d65",
   "metadata": {},
   "outputs": [],
   "source": [
    "schedule_house_B_occ_1 = attack_scheduling(clusters_house_B_occ_1, num_timeslots, start_time, final_time)\n",
    "pd.DataFrame(schedule_house_B_occ_1, columns = [\"Schedule\"], dtype='int64').to_csv(\"../../data/shatter/House-B_Occ-1_SHATTER_Schedule.csv\", index = False)"
   ]
  },
  {
   "cell_type": "markdown",
   "id": "56146631",
   "metadata": {},
   "source": [
    "# House-B Occupant-1 Greedy Schedule"
   ]
  },
  {
   "cell_type": "code",
   "execution_count": null,
   "id": "44ab3b9f",
   "metadata": {},
   "outputs": [],
   "source": [
    "greedy_schedule_house_B_occ_1 = greedy_schedule(clusters_house_B_occ_1, 1440)\n",
    "pd.DataFrame(greedy_schedule_house_B_occ_1, columns = [\"Schedule\"], dtype='int64').to_csv(\"../../data/shatter/House-B_Occ-1_Greedy_Schedule.csv\", index = False)"
   ]
  },
  {
   "cell_type": "markdown",
   "id": "1ecef1ba",
   "metadata": {},
   "source": [
    "# House-B Occupant-2 Attack Schedule"
   ]
  },
  {
   "cell_type": "code",
   "execution_count": null,
   "id": "b0643e9b",
   "metadata": {},
   "outputs": [],
   "source": [
    "schedule_house_B_occ_2 = attack_scheduling(clusters_house_B_occ_2, num_timeslots, start_time, final_time)\n",
    "pd.DataFrame(schedule_house_B_occ_2, columns = [\"Schedule\"], dtype='int64').to_csv(\"../../data/shatter/House-B_Occ-2_SHATTER_Schedule.csv\", index = False)"
   ]
  },
  {
   "cell_type": "markdown",
   "id": "3944ded5",
   "metadata": {},
   "source": [
    "# House-B Occupant-2 Greedy Schedule"
   ]
  },
  {
   "cell_type": "code",
   "execution_count": null,
   "id": "cb35a153",
   "metadata": {},
   "outputs": [],
   "source": [
    "greedy_schedule_house_B_occ_2 = greedy_schedule(clusters_house_B_occ_2, 1440)\n",
    "pd.DataFrame(greedy_schedule_house_B_occ_2, columns = [\"Schedule\"], dtype='int64').to_csv(\"../../data/shatter/House-B_Occ-2_Greedy_Schedule.csv\", index = False)"
   ]
  }
 ],
 "metadata": {
  "kernelspec": {
   "display_name": "Python 3 (ipykernel)",
   "language": "python",
   "name": "python3"
  },
  "language_info": {
   "codemirror_mode": {
    "name": "ipython",
    "version": 3
   },
   "file_extension": ".py",
   "mimetype": "text/x-python",
   "name": "python",
   "nbconvert_exporter": "python",
   "pygments_lexer": "ipython3",
   "version": "3.9.7"
  }
 },
 "nbformat": 4,
 "nbformat_minor": 5
}
