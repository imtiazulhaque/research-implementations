{
 "cells": [
  {
   "cell_type": "markdown",
   "id": "48a58ad3",
   "metadata": {},
   "source": [
    "# Importing Libraries"
   ]
  },
  {
   "cell_type": "code",
   "execution_count": 1,
   "id": "c0098b5c",
   "metadata": {},
   "outputs": [],
   "source": [
    "import pandas as pd\n",
    "import numpy as np\n",
    "from z3 import *\n",
    "import sys\n",
    "sys.path.append('../../scripts/biota/')\n",
    "from BIoTA_Control import *\n",
    "from BIoTA_Attack import *\n",
    "import warnings\n",
    "warnings.filterwarnings('ignore')"
   ]
  },
  {
   "cell_type": "markdown",
   "id": "018e5aa4",
   "metadata": {},
   "source": [
    "# Fixed Parameter"
   ]
  },
  {
   "cell_type": "code",
   "execution_count": 2,
   "id": "792a1c2e",
   "metadata": {},
   "outputs": [],
   "source": [
    "CO2_FRESH_AIR = 400             # CO2 concentration (ppm) of fresh air\n",
    "TEMP_FRESH_AIR = 91.4           # Temperature (33 degree F) of the fresh air\n",
    "CP_AIR = 1.026                  # Specific heat of fresh air\n",
    "DEF_TEMP_SUPPLY_AIR =  55.4     # Default temperature (degree fahrenheit) of supply air (13 degree celsius)\n",
    "MINUTES_IN_A_DAY = 1440         # Number of minutes in a day\n",
    "OFF_PEAK_ENERGY_COST = 0.34     # OFF-PEAK energy cost (USD)\n",
    "ON_PEAK_ENERGY_COST = 0.48      # ON-PEAK energy cost (USD)\n",
    "ON_PEAK_START_SLOT = 960        # ON-PEAK start time (minute in a day)\n",
    "ON_PEAK_END_SLOT = 1260         # ON-PEAK end time (minute in a day)\n",
    "BATTER_STORAGE = 0.48           # Energy (kWh) produced by battery"
   ]
  },
  {
   "cell_type": "markdown",
   "id": "d3a3ec4c",
   "metadata": {},
   "source": [
    "# Variable Parameters"
   ]
  },
  {
   "cell_type": "code",
   "execution_count": 3,
   "id": "54259ac6",
   "metadata": {},
   "outputs": [],
   "source": [
    "zone_temp_setpoint = [0, 75.2, 75.2, 75.2, 75.2]     # list of temperature (fahrenheit) setpoint of the different zones\n",
    "zone_co2_setpoint = [0, 1000, 1000, 1000, 1000]      # list of CO2 (ppm) setpoint of the corresponding zones\n",
    "control_time = 1                                     # control time (in minute)"
   ]
  },
  {
   "cell_type": "markdown",
   "id": "ddf2745a",
   "metadata": {},
   "source": [
    "# Accessing Zone-Activity Information"
   ]
  },
  {
   "cell_type": "code",
   "execution_count": 4,
   "id": "1d2120b1",
   "metadata": {},
   "outputs": [],
   "source": [
    "zones = pd.read_excel('../../data/Aras-Information.xlsx', sheet_name='Zone-Info')\n",
    "zone_volume = zones[\"Volume (cf)\"].to_list()                  # Zones' volumes (cubic feet)\n",
    "pp_co2 = zones[\"CO2 Emission by Occupant (cfm)\"].to_list()    # CO2 Emission by Occupant (cfm)\n",
    "pp_heat = zones[\"Heat Radiation by Occupant (W)\"].to_list()   # Heat Radiation by Occupant (W)\n",
    "load = zones[\"Heat Radiated by Appliances (W)\"].to_list()     # Heat radiated by Appliances (W)\n",
    "        \n",
    "activities = pd.read_excel('../../data/Aras-Information.xlsx', sheet_name='Activity-Info')\n",
    "\n",
    "activity_zone_map = dict()\n",
    "for i in range(len(activities)):\n",
    "    activity_zone_map[int(activities[\"Activity ID\"][i])] = int(activities[\"Zone ID\"][i])"
   ]
  },
  {
   "cell_type": "markdown",
   "id": "bbe7fc64",
   "metadata": {},
   "source": [
    "# Generating Possible Combination of Occupants"
   ]
  },
  {
   "cell_type": "code",
   "execution_count": 5,
   "id": "ed85d8e9",
   "metadata": {},
   "outputs": [
    {
     "data": {
      "text/plain": [
       "{(0, 0, 0, 0, 2),\n",
       " (0, 0, 0, 1, 1),\n",
       " (0, 0, 0, 2, 0),\n",
       " (0, 0, 1, 0, 1),\n",
       " (0, 0, 1, 1, 0),\n",
       " (0, 0, 2, 0, 0),\n",
       " (0, 1, 0, 0, 1),\n",
       " (0, 1, 0, 1, 0),\n",
       " (0, 1, 1, 0, 0),\n",
       " (0, 2, 0, 0, 0),\n",
       " (1, 0, 0, 0, 1),\n",
       " (1, 0, 0, 1, 0),\n",
       " (1, 0, 1, 0, 0),\n",
       " (1, 1, 0, 0, 0),\n",
       " (2, 0, 0, 0, 0)}"
      ]
     },
     "execution_count": 5,
     "metadata": {},
     "output_type": "execute_result"
    }
   ],
   "source": [
    "import itertools\n",
    "all_samples = list(itertools.permutations([1, 1, 0, 0, 0]))\n",
    "all_samples += list(itertools.permutations([2, 0, 0, 0, 0]))\n",
    "# however, there are repetations\n",
    "\n",
    "unique_samples = set()\n",
    "\n",
    "for data in all_samples:    \n",
    "    unique_samples.add(data)\n",
    "    \n",
    "unique_samples"
   ]
  },
  {
   "cell_type": "markdown",
   "id": "a1ca3222",
   "metadata": {},
   "source": [
    "# Tabulate the Control Costs for all Possible Combinations"
   ]
  },
  {
   "cell_type": "code",
   "execution_count": 6,
   "id": "a0dc4081",
   "metadata": {},
   "outputs": [
    {
     "data": {
      "text/plain": [
       "{(1, 0, 1, 0, 0): 0.006996611666666667,\n",
       " (1, 1, 0, 0, 0): 0.006524535000000001,\n",
       " (0, 0, 1, 0, 1): 0.036949184833333336,\n",
       " (2, 0, 0, 0, 0): 0.0,\n",
       " (0, 0, 0, 2, 0): 0.062190949333333335,\n",
       " (0, 0, 0, 0, 2): 0.03490514633333333,\n",
       " (0, 1, 0, 0, 1): 0.03647710816666667,\n",
       " (1, 0, 0, 0, 1): 0.029952573166666666,\n",
       " (0, 0, 1, 1, 0): 0.06309208633333334,\n",
       " (0, 2, 0, 0, 0): 0.012034600000000001,\n",
       " (0, 0, 0, 1, 1): 0.08604804783333334,\n",
       " (0, 1, 0, 1, 0): 0.06262000966666667,\n",
       " (0, 0, 2, 0, 0): 0.009909890000000001,\n",
       " (0, 1, 1, 0, 0): 0.013521146666666668,\n",
       " (1, 0, 0, 1, 0): 0.056095474666666666}"
      ]
     },
     "execution_count": 6,
     "metadata": {},
     "output_type": "execute_result"
    }
   ],
   "source": [
    "# convert list to a tuple\n",
    "def to_tuple(a):\n",
    "    try:\n",
    "        return tuple(to_tuple(i) for i in a)\n",
    "    except TypeError:\n",
    "        return a\n",
    "    \n",
    "dict_control_cost = dict()\n",
    "for sample in unique_samples:\n",
    "    zone_occupant = list(sample)    \n",
    "    dict_control_cost[sample] = control_cost(zones, zone_occupant, zone_temp_setpoint, zone_volume, pp_co2, pp_heat, load, zone_co2_setpoint, control_time)\n",
    "dict_control_cost"
   ]
  },
  {
   "cell_type": "markdown",
   "id": "eb8a0fe7",
   "metadata": {},
   "source": [
    "# Tabulate the Attack Vectors for all Possible Combinations"
   ]
  },
  {
   "cell_type": "code",
   "execution_count": 7,
   "id": "b41ee41b",
   "metadata": {},
   "outputs": [
    {
     "data": {
      "text/plain": [
       "{(1, 0, 1, 0, 0): ([1, 0, 0, 1, 0],\n",
       "  [0, 0, -1, 1, 0],\n",
       "  [0.0, 0.0, -17.876412755463104, -16.526147257402087, 0.0],\n",
       "  [0, 0, 4.513888888889028, -22.805555555555543, 0]),\n",
       " (1, 1, 0, 0, 0): ([1, 0, 0, 1, 0],\n",
       "  [0, -1, 0, 1, 0],\n",
       "  [0.0, -17.85909606660449, 0.0, -16.526147257402087, 0.0],\n",
       "  [0, 7.330246913580254, 0, -22.805555555555543, 0]),\n",
       " (0, 0, 1, 0, 1): ([0, 0, 0, 2, 0],\n",
       "  [0, 0, -1, 2, -1],\n",
       "  [0.0, 0.0, -17.876412755463104, -15.274516737026401, -18.6343599816567],\n",
       "  [0, 0, 4.513888888889028, -45.611111111111086, 12.789351851851848]),\n",
       " (2, 0, 0, 0, 0): ([2, 0, 0, 0, 0],\n",
       "  [0, 0, 0, 0, 0],\n",
       "  [0.0, 0.0, 0.0, 0.0, 0.0],\n",
       "  [0, 0, 0, 0, 0]),\n",
       " (0, 0, 0, 2, 0): ([0, 0, 0, 2, 0],\n",
       "  [0, 0, 0, 0, 0],\n",
       "  [0.0, 0.0, 0.0, 0.0, 0.0],\n",
       "  [0, 0, 0, 0, 0]),\n",
       " (0, 0, 0, 0, 2): ([0, 0, 0, 2, 0],\n",
       "  [0, 0, 0, 2, -2],\n",
       "  [0.0, 0.0, 0.0, -15.274516737026401, -19.49094218553562],\n",
       "  [0, 0, 0, -45.611111111111086, 25.578703703703695]),\n",
       " (0, 1, 0, 0, 1): ([0, 0, 0, 2, 0],\n",
       "  [0, -1, 0, 2, -1],\n",
       "  [0.0, -17.85909606660449, 0.0, -15.274516737026401, -18.6343599816567],\n",
       "  [0, 7.330246913580254, 0, -45.611111111111086, 12.789351851851848]),\n",
       " (1, 0, 0, 0, 1): ([1, 0, 0, 1, 0],\n",
       "  [0, 0, 0, 1, -1],\n",
       "  [0.0, 0.0, 0.0, -16.526147257402087, -18.6343599816567],\n",
       "  [0, 0, 0, -22.805555555555543, 12.789351851851848]),\n",
       " (0, 0, 1, 1, 0): ([0, 0, 0, 2, 0],\n",
       "  [0, 0, -1, 1, 0],\n",
       "  [0.0, 0.0, -17.876412755463104, -16.526147257402087, 0.0],\n",
       "  [0, 0, 4.513888888889028, -33.80555555555554, 0]),\n",
       " (0, 2, 0, 0, 0): ([0, 0, 0, 2, 0],\n",
       "  [0, -2, 0, 2, 0],\n",
       "  [0.0, -17.940414355431198, 0.0, -15.274516737026401, 0.0],\n",
       "  [0, 14.660493827160508, 0, -45.611111111111086, 0]),\n",
       " (0, 0, 0, 1, 1): ([0, 0, 0, 2, 0],\n",
       "  [0, 0, 0, 1, -1],\n",
       "  [0.0, 0.0, 0.0, -16.526147257402087, -18.6343599816567],\n",
       "  [0, 0, 0, -33.80555555555554, 12.789351851851848]),\n",
       " (0, 1, 0, 1, 0): ([0, 0, 0, 2, 0],\n",
       "  [0, -1, 0, 1, 0],\n",
       "  [0.0, -17.85909606660449, 0.0, -16.526147257402087, 0.0],\n",
       "  [0, 7.330246913580254, 0, -33.80555555555554, 0]),\n",
       " (0, 0, 2, 0, 0): ([0, 0, 0, 2, 0],\n",
       "  [0, 0, -2, 2, 0],\n",
       "  [0.0, 0.0, -17.975047733148433, -15.274516737026401, 0.0],\n",
       "  [0, 0, 9.027777777777828, -45.611111111111086, 0]),\n",
       " (0, 1, 1, 0, 0): ([0, 0, 0, 2, 0],\n",
       "  [0, -1, -1, 2, 0],\n",
       "  [0.0, -17.85909606660449, -17.876412755463104, -15.274516737026401, 0.0],\n",
       "  [0, 7.330246913580254, 4.513888888889028, -45.611111111111086, 0]),\n",
       " (1, 0, 0, 1, 0): ([1, 0, 0, 1, 0],\n",
       "  [0, 0, 0, 0, 0],\n",
       "  [0.0, 0.0, 0.0, 0.0, 0.0],\n",
       "  [0, 0, 0, 0, 0])}"
      ]
     },
     "execution_count": 7,
     "metadata": {},
     "output_type": "execute_result"
    }
   ],
   "source": [
    "# convert list to a tuple\n",
    "def to_tuple(a):\n",
    "    try:\n",
    "        return tuple(to_tuple(i) for i in a)\n",
    "    except TypeError:\n",
    "        return a\n",
    "    \n",
    "dict_attack_vectors = dict()\n",
    "for sample in unique_samples:\n",
    "    zone_occupant = list(sample)    \n",
    "    dict_attack_vectors[sample] = attack_vector(zones, zone_occupant, zone_temp_setpoint, zone_volume, pp_co2, pp_heat, load, zone_co2_setpoint, control_time)\n",
    "dict_attack_vectors"
   ]
  },
  {
   "cell_type": "code",
   "execution_count": 8,
   "id": "5e1c8f9b",
   "metadata": {},
   "outputs": [],
   "source": [
    "def biota_attack(house, filename):\n",
    "    # reading processed dataset\n",
    "    control_costs = []\n",
    "    attack_costs = []\n",
    "    unit_energy_costs = []\n",
    "    energy_consumptions = []\n",
    "    attack_energy_consumptions = []\n",
    "    \n",
    "    attack_dataset = pd.DataFrame(columns = ['Day', 'Minute', 'Zone Occupant (Outdoor) (person)', 'Zone Occupant (Bedroom) (person)', 'Zone Occupant (Livingroom) (person)', 'Zone Occupant (Kitchen) (person)' ,'Zone Occupant (Bathroom) (person)', 'Attacked Zone Occupant (Outdoor) (person)', 'Attacked Zone Occupant (Bedroom) (person)', 'Attacked Zone Occupant (Livingroom) (person)', 'Attacked Zone Occupant (Kitchen) (person)' ,'Attacked Zone Occupant (Bathroom) (person)', 'Required Injection in Occupancy Sensor Measurement (Outdoor) (person)', 'Required Injection in Occupancy Sensor Measurement (Bedroom) (person)', 'Required Injection in Occupancy Sensor Measurement (Livingroom) (person)', 'Required Injection in Occupancy Sensor Measurement (Kitchen) (person)', 'Required Injection in Occupancy Sensor Measurement (Bathroom) (person)', 'Required Injection in Temperature Sensor Measurement (Outdoor) (degree F)', 'Required Injection in Temperature Sensor Measurement (Bedroom) (degree F)', 'Required Injection in Temperature Sensor Measurement (Livingroom) (degree F)', 'Required Injection in Temperature Sensor Measurement (Kitchen) (degree F)', 'Required Injection in Temperature Sensor Measurement (Bathroom) (degree F)', 'Required Injection in CO2 Sensor Measurement (Outdoor) (ppm)', 'Required Injection in CO2 Sensor Measurement (Bedroom) (ppm)', 'Required Injection in CO2 Sensor Measurement (Livingroom) (ppm)', 'Required Injection in CO2 Sensor Measurement (Kitchen) (ppm)', 'Required Injection in CO2 Sensor Measurement (Bathroom) (ppm)', 'Benign Control Cost ($)', 'Attack Control Cost ($)'])\n",
    "    control_dataset = pd.read_csv('../../data/processed/Processed-Dataframe_House-' + house + '_BIoTA.csv')\n",
    "\n",
    "    prev_day = -1\n",
    "    battery_usage = 0 # in kWh\n",
    "    \n",
    "    for i in range(len(control_dataset)):\n",
    "        \n",
    "        current_day = int(control_dataset.iloc[i,0])\n",
    "        current_minute = int(control_dataset.iloc[i,1])\n",
    "        \n",
    "        if current_day!= prev_day:\n",
    "            battery_usage = 0\n",
    "            prev_day = current_day        \n",
    "            print(house, current_day)\n",
    "            \n",
    "        zone_occupants = to_tuple(control_dataset.iloc[i][2:].values)\n",
    "        attack_info = dict_attack_vectors[zone_occupants]\n",
    "        attack_zone_occupants = attack_info[0]\n",
    "        del_zone_occ = attack_info[1]\n",
    "        del_zone_temp = attack_info[2]\n",
    "        del_zone_co2 = attack_info[3]\n",
    "        \n",
    "        energy_consumption = dict_control_cost[zone_occupants]\n",
    "        attack_energy_consumption = dict_control_cost[to_tuple(attack_zone_occupants)]\n",
    "        \n",
    "        if current_minute < ON_PEAK_START_SLOT or current_minute > ON_PEAK_END_SLOT:\n",
    "            unit_energy_cost = OFF_PEAK_ENERGY_COST\n",
    "        else:\n",
    "            if battery_usage < BATTER_STORAGE:\n",
    "                battery_usage += energy_consumption\n",
    "                unit_energy_cost = OFF_PEAK_ENERGY_COST\n",
    "            else:\n",
    "                unit_energy_cost = ON_PEAK_ENERGY_COST\n",
    "                \n",
    "        benign_cost = energy_consumption * unit_energy_cost\n",
    "        attack_cost = attack_energy_consumption * unit_energy_cost\n",
    "\n",
    "    \n",
    "        record = [[current_day, current_minute] + list(zone_occupants) + attack_zone_occupants + del_zone_occ + del_zone_temp + del_zone_co2 + [benign_cost, attack_cost]]\n",
    "        attack_dataset = attack_dataset.append(pd.DataFrame(record, columns=attack_dataset.columns), ignore_index=True)\n",
    "    \n",
    "    attack_dataset.to_csv(filename, index = False)"
   ]
  },
  {
   "cell_type": "markdown",
   "id": "f56d4177",
   "metadata": {},
   "source": [
    "# Saving Datasets"
   ]
  },
  {
   "cell_type": "code",
   "execution_count": 9,
   "id": "2a16d1ff",
   "metadata": {
    "scrolled": true
   },
   "outputs": [
    {
     "name": "stdout",
     "output_type": "stream",
     "text": [
      "A 1\n",
      "A 2\n",
      "A 3\n",
      "A 4\n",
      "A 5\n",
      "A 6\n",
      "A 7\n",
      "A 8\n",
      "A 9\n",
      "A 10\n",
      "A 11\n",
      "A 12\n",
      "A 13\n",
      "A 14\n",
      "A 15\n",
      "A 16\n",
      "A 17\n",
      "A 18\n",
      "A 19\n",
      "A 20\n",
      "A 21\n",
      "A 22\n",
      "A 23\n",
      "A 24\n",
      "A 25\n",
      "A 26\n",
      "A 27\n",
      "A 28\n",
      "A 29\n",
      "A 30\n",
      "B 1\n",
      "B 2\n",
      "B 3\n",
      "B 4\n",
      "B 5\n",
      "B 6\n",
      "B 7\n",
      "B 8\n",
      "B 9\n",
      "B 10\n",
      "B 11\n",
      "B 12\n",
      "B 13\n",
      "B 14\n",
      "B 15\n",
      "B 16\n",
      "B 17\n",
      "B 18\n",
      "B 19\n",
      "B 20\n",
      "B 21\n",
      "B 22\n",
      "B 23\n",
      "B 24\n",
      "B 25\n",
      "B 26\n",
      "B 27\n",
      "B 28\n",
      "B 29\n",
      "B 30\n"
     ]
    }
   ],
   "source": [
    "biota_attack(\"A\", \"../../data/biota/BIoTA-Attack-Dataframe_House-A.csv\")\n",
    "biota_attack(\"B\", \"../../data/biota/BIoTA-Attack-Dataframe_House-B.csv\")"
   ]
  }
 ],
 "metadata": {
  "kernelspec": {
   "display_name": "Python 3 (ipykernel)",
   "language": "python",
   "name": "python3"
  },
  "language_info": {
   "codemirror_mode": {
    "name": "ipython",
    "version": 3
   },
   "file_extension": ".py",
   "mimetype": "text/x-python",
   "name": "python",
   "nbconvert_exporter": "python",
   "pygments_lexer": "ipython3",
   "version": "3.9.7"
  }
 },
 "nbformat": 4,
 "nbformat_minor": 5
}
