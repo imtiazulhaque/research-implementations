{
 "cells": [
  {
   "cell_type": "code",
   "execution_count": 1,
   "id": "af98d2b7",
   "metadata": {},
   "outputs": [],
   "source": [
    "# Importing Libraries"
   ]
  },
  {
   "cell_type": "code",
   "execution_count": 2,
   "id": "a6e79f75",
   "metadata": {},
   "outputs": [],
   "source": [
    "import pandas as pd\n",
    "import numpy as np\n",
    "from z3 import *\n",
    "import sys\n",
    "sys.path.append('../../scripts/biota/')\n",
    "from BIoTA_Control import *"
   ]
  },
  {
   "cell_type": "markdown",
   "id": "545dc6c6",
   "metadata": {},
   "source": [
    "# Fixed Parameter"
   ]
  },
  {
   "cell_type": "code",
   "execution_count": 3,
   "id": "46f59a6f",
   "metadata": {},
   "outputs": [],
   "source": [
    "CO2_FRESH_AIR = 400             # CO2 concentration (ppm) of fresh air\n",
    "TEMP_FRESH_AIR = 91.4           # Temperature (33 degree F) of the fresh air\n",
    "CP_AIR = 1.026                  # Specific heat of fresh air\n",
    "DEF_TEMP_SUPPLY_AIR =  55.4     # Default temperature (degree fahrenheit) of supply air (13 degree celsius)\n",
    "MINUTES_IN_A_DAY = 1440         # Number of minutes in a day\n",
    "OFF_PEAK_ENERGY_COST = 0.34     # OFF-PEAK energy cost (USD)\n",
    "ON_PEAK_ENERGY_COST = 0.48      # ON-PEAK energy cost (USD)\n",
    "ON_PEAK_START_SLOT = 960        # ON-PEAK start time (minute in a day)\n",
    "ON_PEAK_END_SLOT = 1260         # ON-PEAK end time (minute in a day)\n",
    "BATTER_STORAGE = 0.48           # Energy (kWh) produced by battery"
   ]
  },
  {
   "cell_type": "markdown",
   "id": "9d6c9165",
   "metadata": {},
   "source": [
    "# Variable Parameters"
   ]
  },
  {
   "cell_type": "code",
   "execution_count": 4,
   "id": "6f2fe4f2",
   "metadata": {},
   "outputs": [],
   "source": [
    "zone_temp_setpoint = [0, 75.2, 75.2, 75.2, 75.2]     # list of temperature (fahrenheit) setpoint of the different zones\n",
    "zone_co2_setpoint = [0, 1000, 1000, 1000, 1000]      # list of CO2 (ppm) setpoint of the corresponding zones\n",
    "control_time = 1                                     # control time (in minute)"
   ]
  },
  {
   "cell_type": "markdown",
   "id": "4a6a0199",
   "metadata": {},
   "source": [
    "# Accessing Zone-Activity Information"
   ]
  },
  {
   "cell_type": "code",
   "execution_count": 5,
   "id": "b75c0646",
   "metadata": {},
   "outputs": [],
   "source": [
    "zones = pd.read_excel('../../data/Aras-Information.xlsx', sheet_name='Zone-Info')\n",
    "zone_volume = zones[\"Volume (cf)\"].to_list()                  # Zones' volumes (cubic feet)\n",
    "pp_co2 = zones[\"CO2 Emission by Occupant (cfm)\"].to_list()    # CO2 Emission by Occupant (cfm)\n",
    "pp_heat = zones[\"Heat Radiation by Occupant (W)\"].to_list()   # Heat Radiation by Occupant (W)\n",
    "load = zones[\"Heat Radiated by Appliances (W)\"].to_list()     # Heat radiated by Appliances (W)\n",
    "        \n",
    "activities = pd.read_excel('../../data/Aras-Information.xlsx', sheet_name='Activity-Info')\n",
    "\n",
    "activity_zone_map = dict()\n",
    "for i in range(len(activities)):\n",
    "    activity_zone_map[int(activities[\"Activity ID\"][i])] = int(activities[\"Zone ID\"][i])"
   ]
  },
  {
   "cell_type": "markdown",
   "id": "000b5e7d",
   "metadata": {},
   "source": [
    "# Generating Possible Combination of Occupants"
   ]
  },
  {
   "cell_type": "code",
   "execution_count": 6,
   "id": "78066cb8",
   "metadata": {},
   "outputs": [
    {
     "data": {
      "text/plain": [
       "{(0, 0, 0, 0, 2),\n",
       " (0, 0, 0, 1, 1),\n",
       " (0, 0, 0, 2, 0),\n",
       " (0, 0, 1, 0, 1),\n",
       " (0, 0, 1, 1, 0),\n",
       " (0, 0, 2, 0, 0),\n",
       " (0, 1, 0, 0, 1),\n",
       " (0, 1, 0, 1, 0),\n",
       " (0, 1, 1, 0, 0),\n",
       " (0, 2, 0, 0, 0),\n",
       " (1, 0, 0, 0, 1),\n",
       " (1, 0, 0, 1, 0),\n",
       " (1, 0, 1, 0, 0),\n",
       " (1, 1, 0, 0, 0),\n",
       " (2, 0, 0, 0, 0)}"
      ]
     },
     "execution_count": 6,
     "metadata": {},
     "output_type": "execute_result"
    }
   ],
   "source": [
    "import itertools\n",
    "all_samples = list(itertools.permutations([1, 1, 0, 0, 0]))\n",
    "all_samples += list(itertools.permutations([2, 0, 0, 0, 0]))\n",
    "# however, there are repetations\n",
    "\n",
    "unique_samples = set()\n",
    "\n",
    "for data in all_samples:    \n",
    "    unique_samples.add(data)\n",
    "    \n",
    "unique_samples"
   ]
  },
  {
   "cell_type": "markdown",
   "id": "8ae780dd",
   "metadata": {},
   "source": [
    "# Tabulate the Control Energy Consumptions for all Possible Combinations"
   ]
  },
  {
   "cell_type": "code",
   "execution_count": 7,
   "id": "a168007a",
   "metadata": {},
   "outputs": [
    {
     "data": {
      "text/plain": [
       "{(1, 0, 1, 0, 0): 0.006996611666666667,\n",
       " (1, 1, 0, 0, 0): 0.006524535000000001,\n",
       " (0, 0, 1, 0, 1): 0.036949184833333336,\n",
       " (2, 0, 0, 0, 0): 0.0,\n",
       " (0, 0, 0, 2, 0): 0.062190949333333335,\n",
       " (0, 0, 0, 0, 2): 0.03490514633333333,\n",
       " (0, 1, 0, 0, 1): 0.03647710816666667,\n",
       " (1, 0, 0, 0, 1): 0.029952573166666666,\n",
       " (0, 0, 1, 1, 0): 0.06309208633333334,\n",
       " (0, 2, 0, 0, 0): 0.012034600000000001,\n",
       " (0, 0, 0, 1, 1): 0.08604804783333334,\n",
       " (0, 1, 0, 1, 0): 0.06262000966666667,\n",
       " (0, 0, 2, 0, 0): 0.009909890000000001,\n",
       " (0, 1, 1, 0, 0): 0.013521146666666668,\n",
       " (1, 0, 0, 1, 0): 0.056095474666666666}"
      ]
     },
     "execution_count": 7,
     "metadata": {},
     "output_type": "execute_result"
    }
   ],
   "source": [
    "# convert list to a tuple\n",
    "def to_tuple(a):\n",
    "    try:\n",
    "        return tuple(to_tuple(i) for i in a)\n",
    "    except TypeError:\n",
    "        return a\n",
    "    \n",
    "dict_control_cost = dict()\n",
    "for sample in unique_samples:\n",
    "    zone_occupant = list(sample)    \n",
    "    dict_control_cost[sample] = control_cost(zones, zone_occupant, zone_temp_setpoint, zone_volume, pp_co2, pp_heat, load, zone_co2_setpoint, control_time)\n",
    "dict_control_cost"
   ]
  },
  {
   "cell_type": "markdown",
   "id": "d6253467",
   "metadata": {},
   "source": [
    "# BIoTA Control Cost Calculation Functions"
   ]
  },
  {
   "cell_type": "code",
   "execution_count": 8,
   "id": "f305fc15",
   "metadata": {},
   "outputs": [],
   "source": [
    "def biota_control(house, filename):\n",
    "    # reading processed dataset\n",
    "    control_costs = []\n",
    "    unit_energy_costs = []\n",
    "    energy_consumptions = []\n",
    "    \n",
    "    dataset = pd.read_csv('../../data/processed/Processed-Dataframe_House-' + house + '_BIoTA.csv')\n",
    "    \n",
    "    prev_day = -1\n",
    "    battery_usage = 0 # in kWh\n",
    "    \n",
    "    for i in range(len(dataset)):\n",
    "        current_day = int(dataset.iloc[i,0])\n",
    "        current_minute = int(dataset.iloc[i,1])\n",
    "        \n",
    "        if current_day!= prev_day:\n",
    "            battery_usage = 0\n",
    "            prev_day = current_day        \n",
    "            print(house, current_day)\n",
    "            \n",
    "        zone_occupants = to_tuple(dataset.iloc[i][2:].values)\n",
    "        energy_consumption = dict_control_cost[zone_occupants]\n",
    "        \n",
    "        if current_minute < ON_PEAK_START_SLOT or current_minute > ON_PEAK_END_SLOT:\n",
    "            unit_energy_cost = OFF_PEAK_ENERGY_COST\n",
    "        else:\n",
    "            if battery_usage < BATTER_STORAGE:\n",
    "                battery_usage += energy_consumption\n",
    "                unit_energy_cost = OFF_PEAK_ENERGY_COST\n",
    "            else:\n",
    "                unit_energy_cost = ON_PEAK_ENERGY_COST\n",
    "                \n",
    "        current_cost = energy_consumption * unit_energy_cost\n",
    "        control_costs.append(current_cost)\n",
    "        unit_energy_costs.append(unit_energy_cost)\n",
    "        energy_consumptions.append(energy_consumption)\n",
    "        \n",
    "    dataset['Unit Energy Cost ($)'] = unit_energy_costs\n",
    "    dataset['Control Cost ($)'] = control_costs\n",
    "    dataset['Control Cost ($)'] = control_costs\n",
    "    \n",
    "    dataset.to_csv(filename, index = False)"
   ]
  },
  {
   "cell_type": "markdown",
   "id": "1981ed5a",
   "metadata": {},
   "source": [
    "# Saving Dataset"
   ]
  },
  {
   "cell_type": "code",
   "execution_count": 9,
   "id": "f8a2e667",
   "metadata": {},
   "outputs": [
    {
     "name": "stdout",
     "output_type": "stream",
     "text": [
      "A 1\n",
      "A 2\n",
      "A 3\n",
      "A 4\n",
      "A 5\n",
      "A 6\n",
      "A 7\n",
      "A 8\n",
      "A 9\n",
      "A 10\n",
      "A 11\n",
      "A 12\n",
      "A 13\n",
      "A 14\n",
      "A 15\n",
      "A 16\n",
      "A 17\n",
      "A 18\n",
      "A 19\n",
      "A 20\n",
      "A 21\n",
      "A 22\n",
      "A 23\n",
      "A 24\n",
      "A 25\n",
      "A 26\n",
      "A 27\n",
      "A 28\n",
      "A 29\n"
     ]
    },
    {
     "ename": "PermissionError",
     "evalue": "[Errno 13] Permission denied: '../../data/biota/BIoTA-Control-Dataframe_House-A.csv'",
     "output_type": "error",
     "traceback": [
      "\u001b[1;31m---------------------------------------------------------------------------\u001b[0m",
      "\u001b[1;31mPermissionError\u001b[0m                           Traceback (most recent call last)",
      "\u001b[1;32m~\\AppData\\Local\\Temp\\2\\ipykernel_25816\\2373649798.py\u001b[0m in \u001b[0;36m<module>\u001b[1;34m\u001b[0m\n\u001b[1;32m----> 1\u001b[1;33m \u001b[0mbiota_control\u001b[0m\u001b[1;33m(\u001b[0m\u001b[1;34m\"A\"\u001b[0m\u001b[1;33m,\u001b[0m \u001b[1;34m\"../../data/biota/BIoTA-Control-Dataframe_House-A.csv\"\u001b[0m\u001b[1;33m)\u001b[0m\u001b[1;33m\u001b[0m\u001b[1;33m\u001b[0m\u001b[0m\n\u001b[0m\u001b[0;32m      2\u001b[0m \u001b[0mbiota_control\u001b[0m\u001b[1;33m(\u001b[0m\u001b[1;34m\"B\"\u001b[0m\u001b[1;33m,\u001b[0m \u001b[1;34m\"../../data/biota/BIoTA-Control-Dataframe_House-B.csv\"\u001b[0m\u001b[1;33m)\u001b[0m\u001b[1;33m\u001b[0m\u001b[1;33m\u001b[0m\u001b[0m\n",
      "\u001b[1;32m~\\AppData\\Local\\Temp\\2\\ipykernel_25816\\3550446969.py\u001b[0m in \u001b[0;36mbiota_control\u001b[1;34m(house, filename)\u001b[0m\n\u001b[0;32m     40\u001b[0m     \u001b[0mdataset\u001b[0m\u001b[1;33m[\u001b[0m\u001b[1;34m'Control Cost ($)'\u001b[0m\u001b[1;33m]\u001b[0m \u001b[1;33m=\u001b[0m \u001b[0mcontrol_costs\u001b[0m\u001b[1;33m\u001b[0m\u001b[1;33m\u001b[0m\u001b[0m\n\u001b[0;32m     41\u001b[0m \u001b[1;33m\u001b[0m\u001b[0m\n\u001b[1;32m---> 42\u001b[1;33m     \u001b[0mdataset\u001b[0m\u001b[1;33m.\u001b[0m\u001b[0mto_csv\u001b[0m\u001b[1;33m(\u001b[0m\u001b[0mfilename\u001b[0m\u001b[1;33m,\u001b[0m \u001b[0mindex\u001b[0m \u001b[1;33m=\u001b[0m \u001b[1;32mFalse\u001b[0m\u001b[1;33m)\u001b[0m\u001b[1;33m\u001b[0m\u001b[1;33m\u001b[0m\u001b[0m\n\u001b[0m",
      "\u001b[1;32m~\\Anaconda3\\lib\\site-packages\\pandas\\core\\generic.py\u001b[0m in \u001b[0;36mto_csv\u001b[1;34m(self, path_or_buf, sep, na_rep, float_format, columns, header, index, index_label, mode, encoding, compression, quoting, quotechar, line_terminator, chunksize, date_format, doublequote, escapechar, decimal, errors, storage_options)\u001b[0m\n\u001b[0;32m   3549\u001b[0m         )\n\u001b[0;32m   3550\u001b[0m \u001b[1;33m\u001b[0m\u001b[0m\n\u001b[1;32m-> 3551\u001b[1;33m         return DataFrameRenderer(formatter).to_csv(\n\u001b[0m\u001b[0;32m   3552\u001b[0m             \u001b[0mpath_or_buf\u001b[0m\u001b[1;33m,\u001b[0m\u001b[1;33m\u001b[0m\u001b[1;33m\u001b[0m\u001b[0m\n\u001b[0;32m   3553\u001b[0m             \u001b[0mline_terminator\u001b[0m\u001b[1;33m=\u001b[0m\u001b[0mline_terminator\u001b[0m\u001b[1;33m,\u001b[0m\u001b[1;33m\u001b[0m\u001b[1;33m\u001b[0m\u001b[0m\n",
      "\u001b[1;32m~\\Anaconda3\\lib\\site-packages\\pandas\\io\\formats\\format.py\u001b[0m in \u001b[0;36mto_csv\u001b[1;34m(self, path_or_buf, encoding, sep, columns, index_label, mode, compression, quoting, quotechar, line_terminator, chunksize, date_format, doublequote, escapechar, errors, storage_options)\u001b[0m\n\u001b[0;32m   1178\u001b[0m             \u001b[0mformatter\u001b[0m\u001b[1;33m=\u001b[0m\u001b[0mself\u001b[0m\u001b[1;33m.\u001b[0m\u001b[0mfmt\u001b[0m\u001b[1;33m,\u001b[0m\u001b[1;33m\u001b[0m\u001b[1;33m\u001b[0m\u001b[0m\n\u001b[0;32m   1179\u001b[0m         )\n\u001b[1;32m-> 1180\u001b[1;33m         \u001b[0mcsv_formatter\u001b[0m\u001b[1;33m.\u001b[0m\u001b[0msave\u001b[0m\u001b[1;33m(\u001b[0m\u001b[1;33m)\u001b[0m\u001b[1;33m\u001b[0m\u001b[1;33m\u001b[0m\u001b[0m\n\u001b[0m\u001b[0;32m   1181\u001b[0m \u001b[1;33m\u001b[0m\u001b[0m\n\u001b[0;32m   1182\u001b[0m         \u001b[1;32mif\u001b[0m \u001b[0mcreated_buffer\u001b[0m\u001b[1;33m:\u001b[0m\u001b[1;33m\u001b[0m\u001b[1;33m\u001b[0m\u001b[0m\n",
      "\u001b[1;32m~\\Anaconda3\\lib\\site-packages\\pandas\\io\\formats\\csvs.py\u001b[0m in \u001b[0;36msave\u001b[1;34m(self)\u001b[0m\n\u001b[0;32m    239\u001b[0m         \"\"\"\n\u001b[0;32m    240\u001b[0m         \u001b[1;31m# apply compression and byte/text conversion\u001b[0m\u001b[1;33m\u001b[0m\u001b[1;33m\u001b[0m\u001b[0m\n\u001b[1;32m--> 241\u001b[1;33m         with get_handle(\n\u001b[0m\u001b[0;32m    242\u001b[0m             \u001b[0mself\u001b[0m\u001b[1;33m.\u001b[0m\u001b[0mfilepath_or_buffer\u001b[0m\u001b[1;33m,\u001b[0m\u001b[1;33m\u001b[0m\u001b[1;33m\u001b[0m\u001b[0m\n\u001b[0;32m    243\u001b[0m             \u001b[0mself\u001b[0m\u001b[1;33m.\u001b[0m\u001b[0mmode\u001b[0m\u001b[1;33m,\u001b[0m\u001b[1;33m\u001b[0m\u001b[1;33m\u001b[0m\u001b[0m\n",
      "\u001b[1;32m~\\Anaconda3\\lib\\site-packages\\pandas\\io\\common.py\u001b[0m in \u001b[0;36mget_handle\u001b[1;34m(path_or_buf, mode, encoding, compression, memory_map, is_text, errors, storage_options)\u001b[0m\n\u001b[0;32m    784\u001b[0m         \u001b[1;32mif\u001b[0m \u001b[0mioargs\u001b[0m\u001b[1;33m.\u001b[0m\u001b[0mencoding\u001b[0m \u001b[1;32mand\u001b[0m \u001b[1;34m\"b\"\u001b[0m \u001b[1;32mnot\u001b[0m \u001b[1;32min\u001b[0m \u001b[0mioargs\u001b[0m\u001b[1;33m.\u001b[0m\u001b[0mmode\u001b[0m\u001b[1;33m:\u001b[0m\u001b[1;33m\u001b[0m\u001b[1;33m\u001b[0m\u001b[0m\n\u001b[0;32m    785\u001b[0m             \u001b[1;31m# Encoding\u001b[0m\u001b[1;33m\u001b[0m\u001b[1;33m\u001b[0m\u001b[0m\n\u001b[1;32m--> 786\u001b[1;33m             handle = open(\n\u001b[0m\u001b[0;32m    787\u001b[0m                 \u001b[0mhandle\u001b[0m\u001b[1;33m,\u001b[0m\u001b[1;33m\u001b[0m\u001b[1;33m\u001b[0m\u001b[0m\n\u001b[0;32m    788\u001b[0m                 \u001b[0mioargs\u001b[0m\u001b[1;33m.\u001b[0m\u001b[0mmode\u001b[0m\u001b[1;33m,\u001b[0m\u001b[1;33m\u001b[0m\u001b[1;33m\u001b[0m\u001b[0m\n",
      "\u001b[1;31mPermissionError\u001b[0m: [Errno 13] Permission denied: '../../data/biota/BIoTA-Control-Dataframe_House-A.csv'"
     ]
    }
   ],
   "source": [
    "biota_control(\"A\", \"../../data/biota/BIoTA-Control-Dataframe_House-A.csv\")\n",
    "biota_control(\"B\", \"../../data/biota/BIoTA-Control-Dataframe_House-B.csv\")"
   ]
  }
 ],
 "metadata": {
  "kernelspec": {
   "display_name": "Python 3 (ipykernel)",
   "language": "python",
   "name": "python3"
  },
  "language_info": {
   "codemirror_mode": {
    "name": "ipython",
    "version": 3
   },
   "file_extension": ".py",
   "mimetype": "text/x-python",
   "name": "python",
   "nbconvert_exporter": "python",
   "pygments_lexer": "ipython3",
   "version": "3.9.13"
  }
 },
 "nbformat": 4,
 "nbformat_minor": 5
}
