{
 "cells": [
  {
   "cell_type": "markdown",
   "id": "f2362657",
   "metadata": {},
   "source": [
    "# Importing Libraries"
   ]
  },
  {
   "cell_type": "code",
   "execution_count": 1,
   "id": "a6e79f75",
   "metadata": {},
   "outputs": [],
   "source": [
    "import pandas as pd\n",
    "import numpy as np\n",
    "from z3 import *\n",
    "from itertools import combinations\n",
    "import sys\n",
    "sys.path.append('../../scripts/biota/')\n",
    "from BIoTA_Control import *"
   ]
  },
  {
   "cell_type": "markdown",
   "id": "545dc6c6",
   "metadata": {},
   "source": [
    "# Fixed Parameter"
   ]
  },
  {
   "cell_type": "code",
   "execution_count": 2,
   "id": "46f59a6f",
   "metadata": {},
   "outputs": [],
   "source": [
    "CO2_FRESH_AIR = 400             # CO2 concentration (ppm) of fresh air\n",
    "TEMP_FRESH_AIR = 91.4           # Temperature (33 degree F) of the fresh air\n",
    "CP_AIR = 1.026                  # Specific heat of fresh air\n",
    "DEF_TEMP_SUPPLY_AIR =  55.4     # Default temperature (degree fahrenheit) of supply air (13 degree celsius)\n",
    "MINUTES_IN_A_DAY = 1440         # Number of minutes in a day\n",
    "OFF_PEAK_ENERGY_COST = 0.34     # OFF-PEAK energy cost (USD)\n",
    "ON_PEAK_ENERGY_COST = 0.48      # ON-PEAK energy cost (USD)\n",
    "ON_PEAK_START_SLOT = 960        # ON-PEAK start time (minute in a day)\n",
    "ON_PEAK_END_SLOT = 1260         # ON-PEAK end time (minute in a day)\n",
    "BATTER_STORAGE = 0.48           # Energy (kWh) produced by battery"
   ]
  },
  {
   "cell_type": "markdown",
   "id": "9d6c9165",
   "metadata": {},
   "source": [
    "# Variable Parameters"
   ]
  },
  {
   "cell_type": "code",
   "execution_count": 3,
   "id": "6f2fe4f2",
   "metadata": {},
   "outputs": [],
   "source": [
    "zone_temp_setpoint = [0, 75.2, 75.2, 75.2, 75.2]     # list of temperature (fahrenheit) setpoint of the different zones\n",
    "zone_co2_setpoint = [0, 1000, 1000, 1000, 1000]      # list of CO2 (ppm) setpoint of the corresponding zones\n",
    "control_time = 1                                     # control time (in minute)"
   ]
  },
  {
   "cell_type": "markdown",
   "id": "f83b73e7",
   "metadata": {},
   "source": [
    "# Accessing Zone-Activity Information"
   ]
  },
  {
   "cell_type": "code",
   "execution_count": 4,
   "id": "25065d61",
   "metadata": {},
   "outputs": [],
   "source": [
    "zones = pd.read_excel('../../data/Aras-Information.xlsx', sheet_name='Zone-Info')\n",
    "zone_volume = zones[\"Volume (cf)\"].to_list()                  # Zones' volumes (cubic feet)\n",
    "pp_co2 = zones[\"CO2 Emission by Occupant (cfm)\"].to_list()    # CO2 Emission by Occupant (cfm)\n",
    "pp_heat = zones[\"Heat Radiation by Occupant (W)\"].to_list()   # Heat Radiation by Occupant (W)\n",
    "load = zones[\"Heat Radiated by Appliances (W)\"].to_list()     # Heat radiated by Appliances (W)\n",
    "        \n",
    "activities = pd.read_excel('../../data/Aras-Information.xlsx', sheet_name='Activity-Info')\n",
    "\n",
    "activity_zone_map = dict()\n",
    "for i in range(len(activities)):\n",
    "    activity_zone_map[int(activities[\"Activity ID\"][i])] = int(activities[\"Zone ID\"][i])"
   ]
  },
  {
   "cell_type": "markdown",
   "id": "88b70e3a",
   "metadata": {},
   "source": [
    "# Generating Possible Combination of Occupants"
   ]
  },
  {
   "cell_type": "code",
   "execution_count": 5,
   "id": "34d338f3",
   "metadata": {},
   "outputs": [
    {
     "data": {
      "text/plain": [
       "{(0, 0, 0, 0, 2),\n",
       " (0, 0, 0, 1, 1),\n",
       " (0, 0, 0, 2, 0),\n",
       " (0, 0, 1, 0, 1),\n",
       " (0, 0, 1, 1, 0),\n",
       " (0, 0, 2, 0, 0),\n",
       " (0, 1, 0, 0, 1),\n",
       " (0, 1, 0, 1, 0),\n",
       " (0, 1, 1, 0, 0),\n",
       " (0, 2, 0, 0, 0),\n",
       " (1, 0, 0, 0, 1),\n",
       " (1, 0, 0, 1, 0),\n",
       " (1, 0, 1, 0, 0),\n",
       " (1, 1, 0, 0, 0),\n",
       " (2, 0, 0, 0, 0)}"
      ]
     },
     "execution_count": 5,
     "metadata": {},
     "output_type": "execute_result"
    }
   ],
   "source": [
    "import itertools\n",
    "all_samples = list(itertools.permutations([1, 1, 0, 0, 0]))\n",
    "all_samples += list(itertools.permutations([2, 0, 0, 0, 0]))\n",
    "# however, there are repetations\n",
    "\n",
    "unique_samples = set()\n",
    "\n",
    "for data in all_samples:    \n",
    "    unique_samples.add(data)\n",
    "    \n",
    "unique_samples"
   ]
  },
  {
   "cell_type": "markdown",
   "id": "82bb9d1b",
   "metadata": {},
   "source": [
    "# Tabulate the Control Costs for all Possible Combinations"
   ]
  },
  {
   "cell_type": "code",
   "execution_count": 6,
   "id": "4a13fc37",
   "metadata": {},
   "outputs": [
    {
     "data": {
      "text/plain": [
       "{(1, 0, 1, 0, 0): 0.006996611666666667,\n",
       " (1, 1, 0, 0, 0): 0.006524535000000001,\n",
       " (0, 0, 1, 0, 1): 0.036949184833333336,\n",
       " (2, 0, 0, 0, 0): 0.0,\n",
       " (0, 0, 0, 2, 0): 0.062190949333333335,\n",
       " (0, 0, 0, 0, 2): 0.03490514633333333,\n",
       " (0, 1, 0, 0, 1): 0.03647710816666667,\n",
       " (1, 0, 0, 0, 1): 0.029952573166666666,\n",
       " (0, 0, 1, 1, 0): 0.06309208633333334,\n",
       " (0, 2, 0, 0, 0): 0.012034600000000001,\n",
       " (0, 0, 0, 1, 1): 0.08604804783333334,\n",
       " (0, 1, 0, 1, 0): 0.06262000966666667,\n",
       " (0, 0, 2, 0, 0): 0.009909890000000001,\n",
       " (0, 1, 1, 0, 0): 0.013521146666666668,\n",
       " (1, 0, 0, 1, 0): 0.056095474666666666}"
      ]
     },
     "execution_count": 6,
     "metadata": {},
     "output_type": "execute_result"
    }
   ],
   "source": [
    "# convert list to a tuple\n",
    "def to_tuple(a):\n",
    "    try:\n",
    "        return tuple(to_tuple(i) for i in a)\n",
    "    except TypeError:\n",
    "        return a\n",
    "    \n",
    "dict_control_cost = dict()\n",
    "for sample in unique_samples:\n",
    "    zone_occupant = list(sample)    \n",
    "    dict_control_cost[sample] = control_cost(zones, zone_occupant, zone_temp_setpoint, zone_volume, pp_co2, pp_heat, load, zone_co2_setpoint, control_time)\n",
    "dict_control_cost"
   ]
  },
  {
   "cell_type": "markdown",
   "id": "7d0f1910",
   "metadata": {},
   "source": [
    "# Reading SHATTER Attack-Schedule Datasets"
   ]
  },
  {
   "cell_type": "code",
   "execution_count": 7,
   "id": "108f00df",
   "metadata": {},
   "outputs": [],
   "source": [
    "house_A_occ_1_final_schedule = pd.read_csv(\"../../data/shatter/DBSCAN_House-A_Occ-1_SHATTER_Schedule.csv\").values\n",
    "house_A_occ_2_final_schedule = pd.read_csv(\"../../data/shatter/DBSCAN_House-A_Occ-2_SHATTER_Schedule.csv\").values\n",
    "house_B_occ_1_final_schedule = pd.read_csv(\"../../data/shatter/DBSCAN_House-B_Occ-1_SHATTER_Schedule.csv\").values\n",
    "house_B_occ_2_final_schedule = pd.read_csv(\"../../data/shatter/DBSCAN_House-B_Occ-2_SHATTER_Schedule.csv\").values\n",
    "house_A_occ_1_greedy_schedule =  pd.read_csv(\"../../data/shatter/DBSCAN_House-A_Occ-1_Greedy_Schedule.csv\").values\n",
    "house_A_occ_2_greedy_schedule =  pd.read_csv(\"../../data/shatter/DBSCAN_House-A_Occ-2_Greedy_Schedule.csv\").values\n",
    "house_B_occ_1_greedy_schedule =  pd.read_csv(\"../../data/shatter/DBSCAN_House-B_Occ-1_Greedy_Schedule.csv\").values\n",
    "house_B_occ_2_greedy_schedule =  pd.read_csv(\"../../data/shatter/DBSCAN_House-B_Occ-2_Greedy_Schedule.csv\").values"
   ]
  },
  {
   "cell_type": "markdown",
   "id": "30b14049",
   "metadata": {},
   "source": [
    "# SHATTER Attack Cost Calculation for House-A"
   ]
  },
  {
   "cell_type": "code",
   "execution_count": 8,
   "id": "4bc9e5fd",
   "metadata": {},
   "outputs": [
    {
     "data": {
      "text/plain": [
       "759.9437990017088"
      ]
     },
     "execution_count": 8,
     "metadata": {},
     "output_type": "execute_result"
    }
   ],
   "source": [
    "shatter_cost_house_A = []\n",
    "unit_energy_costs = []\n",
    "energy_consumptions = []\n",
    "prev_day = -1\n",
    "battery_usage = 0 # in kWh\n",
    "\n",
    "for i in range(len(house_A_occ_1_final_schedule)):\n",
    "    current_minute = i     \n",
    "    \n",
    "    zone_occupants = [0, 0, 0, 0, 0]\n",
    "    zone_occupants[int(house_A_occ_1_final_schedule[i])] += 1\n",
    "    zone_occupants[int(house_A_occ_2_final_schedule[i])] += 1\n",
    "    energy_consumption = dict_control_cost[to_tuple(zone_occupants)]\n",
    "    \n",
    "    if current_minute < ON_PEAK_START_SLOT or current_minute > ON_PEAK_END_SLOT:\n",
    "        unit_energy_cost = OFF_PEAK_ENERGY_COST\n",
    "    else:\n",
    "        if battery_usage < BATTER_STORAGE:\n",
    "            battery_usage += energy_consumption\n",
    "            unit_energy_cost = OFF_PEAK_ENERGY_COST\n",
    "        else:\n",
    "            unit_energy_cost = ON_PEAK_ENERGY_COST\n",
    "\n",
    "    current_cost = energy_consumption * unit_energy_cost\n",
    "    shatter_cost_house_A.append(current_cost)\n",
    "    unit_energy_costs.append(unit_energy_cost)\n",
    "    energy_consumptions.append(energy_consumption)\n",
    "\n",
    "    #shatter_cost_house_A.append(dict_control_cost[to_tuple(zone_occupants)])  \n",
    "sum(shatter_cost_house_A) * 30"
   ]
  },
  {
   "cell_type": "markdown",
   "id": "3c03cec1",
   "metadata": {},
   "source": [
    "# SHATTER Control Cost Calculation for House-B"
   ]
  },
  {
   "cell_type": "code",
   "execution_count": 9,
   "id": "2a96a3d5",
   "metadata": {},
   "outputs": [
    {
     "data": {
      "text/plain": [
       "410.36925888549655"
      ]
     },
     "execution_count": 9,
     "metadata": {},
     "output_type": "execute_result"
    }
   ],
   "source": [
    "shatter_cost_house_B = []\n",
    "unit_energy_costs = []\n",
    "energy_consumptions = []\n",
    "prev_day = -1\n",
    "battery_usage = 0 # in kWh\n",
    "\n",
    "for i in range(len(house_B_occ_1_final_schedule)):\n",
    "    current_minute = i    \n",
    "    zone_occupants = [0, 0, 0, 0, 0]\n",
    "    zone_occupants[int(house_B_occ_1_final_schedule[i])] += 1\n",
    "    zone_occupants[int(house_B_occ_2_final_schedule[i])] += 1\n",
    "    \n",
    "    energy_consumption = dict_control_cost[to_tuple(zone_occupants)]\n",
    "    \n",
    "    if current_minute < ON_PEAK_START_SLOT or current_minute > ON_PEAK_END_SLOT:\n",
    "        unit_energy_cost = OFF_PEAK_ENERGY_COST\n",
    "    else:\n",
    "        if battery_usage < BATTER_STORAGE:\n",
    "            battery_usage += energy_consumption\n",
    "            unit_energy_cost = OFF_PEAK_ENERGY_COST\n",
    "        else:\n",
    "            unit_energy_cost = ON_PEAK_ENERGY_COST\n",
    "\n",
    "    current_cost = energy_consumption * unit_energy_cost\n",
    "    shatter_cost_house_B.append(current_cost)\n",
    "    unit_energy_costs.append(unit_energy_cost)\n",
    "    energy_consumptions.append(energy_consumption)\n",
    "\n",
    "    \n",
    "sum(shatter_cost_house_B) * 30"
   ]
  },
  {
   "cell_type": "markdown",
   "id": "dba16a5a",
   "metadata": {},
   "source": [
    "# Greedy Attack Cost Calculation for House-A"
   ]
  },
  {
   "cell_type": "code",
   "execution_count": 10,
   "id": "ce8d6b6f",
   "metadata": {},
   "outputs": [
    {
     "data": {
      "text/plain": [
       "714.3411973528146"
      ]
     },
     "execution_count": 10,
     "metadata": {},
     "output_type": "execute_result"
    }
   ],
   "source": [
    "greedy_cost_house_A = []\n",
    "unit_energy_costs = []\n",
    "energy_consumptions = []\n",
    "prev_day = -1\n",
    "battery_usage = 0 # in kWh\n",
    "\n",
    "for i in range(len(house_A_occ_1_greedy_schedule)):\n",
    "    current_minute = i    \n",
    "    zone_occupants = [0, 0, 0, 0, 0]\n",
    "    zone_occupants[int(house_A_occ_1_greedy_schedule[i])] += 1\n",
    "    zone_occupants[int(house_A_occ_2_greedy_schedule[i])] += 1\n",
    "     \n",
    "    energy_consumption = dict_control_cost[to_tuple(zone_occupants)]\n",
    "    \n",
    "    if current_minute < ON_PEAK_START_SLOT or current_minute > ON_PEAK_END_SLOT:\n",
    "        unit_energy_cost = OFF_PEAK_ENERGY_COST\n",
    "    else:\n",
    "        if battery_usage < BATTER_STORAGE:\n",
    "            battery_usage += energy_consumption\n",
    "            unit_energy_cost = OFF_PEAK_ENERGY_COST\n",
    "        else:\n",
    "            unit_energy_cost = ON_PEAK_ENERGY_COST\n",
    "\n",
    "    current_cost = energy_consumption * unit_energy_cost\n",
    "    greedy_cost_house_A.append(current_cost)\n",
    "    unit_energy_costs.append(unit_energy_cost)\n",
    "    energy_consumptions.append(energy_consumption)\n",
    "sum(greedy_cost_house_A) * 30"
   ]
  },
  {
   "cell_type": "markdown",
   "id": "300ff017",
   "metadata": {},
   "source": [
    "# Greedy Attack Cost Calculation for House-B"
   ]
  },
  {
   "cell_type": "code",
   "execution_count": 11,
   "id": "4a5b515d",
   "metadata": {},
   "outputs": [
    {
     "data": {
      "text/plain": [
       "419.68475261809596"
      ]
     },
     "execution_count": 11,
     "metadata": {},
     "output_type": "execute_result"
    }
   ],
   "source": [
    "greedy_cost_house_B = []\n",
    "unit_energy_costs = []\n",
    "energy_consumptions = []\n",
    "prev_day = -1\n",
    "battery_usage = 0 # in kWh\n",
    "\n",
    "for i in range(len(house_B_occ_1_greedy_schedule)):\n",
    "    current_minute = i    \n",
    "    zone_occupants = [0, 0, 0, 0, 0]\n",
    "    zone_occupants[int(house_B_occ_1_greedy_schedule[i])] += 1\n",
    "    zone_occupants[int(house_B_occ_2_greedy_schedule[i])] += 1\n",
    "     \n",
    "    energy_consumption = dict_control_cost[to_tuple(zone_occupants)]\n",
    "    \n",
    "    if current_minute < ON_PEAK_START_SLOT or current_minute > ON_PEAK_END_SLOT:\n",
    "        unit_energy_cost = OFF_PEAK_ENERGY_COST\n",
    "    else:\n",
    "        if battery_usage < BATTER_STORAGE:\n",
    "            battery_usage += energy_consumption\n",
    "            unit_energy_cost = OFF_PEAK_ENERGY_COST\n",
    "        else:\n",
    "            unit_energy_cost = ON_PEAK_ENERGY_COST\n",
    "\n",
    "    current_cost = energy_consumption * unit_energy_cost\n",
    "    greedy_cost_house_B.append(current_cost)\n",
    "    unit_energy_costs.append(unit_energy_cost)\n",
    "    energy_consumptions.append(energy_consumption)\n",
    "sum(greedy_cost_house_B) * 30"
   ]
  },
  {
   "cell_type": "markdown",
   "id": "673e448d",
   "metadata": {},
   "source": [
    "# Reading BIoTA Attack Dataset"
   ]
  },
  {
   "cell_type": "code",
   "execution_count": 12,
   "id": "727c43b0",
   "metadata": {},
   "outputs": [],
   "source": [
    "biota_house_A = pd.read_csv(\"../../data/biota/BIoTA-Attack-Dataframe_House-A.csv\")\n",
    "biota_house_B = pd.read_csv(\"../../data/biota/BIoTA-Attack-Dataframe_House-B.csv\")"
   ]
  },
  {
   "cell_type": "markdown",
   "id": "685736af",
   "metadata": {},
   "source": [
    "# Day-wise BIoTA Attack Cost House-A"
   ]
  },
  {
   "cell_type": "code",
   "execution_count": 13,
   "id": "d06e0319",
   "metadata": {},
   "outputs": [
    {
     "data": {
      "text/plain": [
       "775.8347225093927"
      ]
     },
     "execution_count": 13,
     "metadata": {},
     "output_type": "execute_result"
    }
   ],
   "source": [
    "day_wise_biota_attack_cost_house_A = []\n",
    "for i in range(0, 43200, 1440):\n",
    "    day_wise_biota_attack_cost_house_A.append(sum(biota_house_A[\"Attack Control Cost ($)\"][i:i+1400]))\n",
    "total_biota_attack_cost_house_A = sum(day_wise_biota_attack_cost_house_A)\n",
    "total_biota_attack_cost_house_A"
   ]
  },
  {
   "cell_type": "markdown",
   "id": "54b91587",
   "metadata": {},
   "source": [
    "# Day-wise BIoTA Attack Cost House-B"
   ]
  },
  {
   "cell_type": "code",
   "execution_count": 14,
   "id": "0f5dfd7e",
   "metadata": {},
   "outputs": [
    {
     "data": {
      "text/plain": [
       "518.5026439412262"
      ]
     },
     "execution_count": 14,
     "metadata": {},
     "output_type": "execute_result"
    }
   ],
   "source": [
    "day_wise_biota_attack_cost_house_B = []\n",
    "for i in range(0, 43200, 1440):\n",
    "    day_wise_biota_attack_cost_house_B.append(sum(biota_house_B[\"Attack Control Cost ($)\"][i:i+1400]))\n",
    "total_biota_attack_cost_house_B = sum(day_wise_biota_attack_cost_house_B)\n",
    "total_biota_attack_cost_house_B"
   ]
  }
 ],
 "metadata": {
  "kernelspec": {
   "display_name": "Python 3 (ipykernel)",
   "language": "python",
   "name": "python3"
  },
  "language_info": {
   "codemirror_mode": {
    "name": "ipython",
    "version": 3
   },
   "file_extension": ".py",
   "mimetype": "text/x-python",
   "name": "python",
   "nbconvert_exporter": "python",
   "pygments_lexer": "ipython3",
   "version": "3.9.7"
  }
 },
 "nbformat": 4,
 "nbformat_minor": 5
}
