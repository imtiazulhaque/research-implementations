{
 "cells": [
  {
   "cell_type": "markdown",
   "id": "f2362657",
   "metadata": {},
   "source": [
    "# Importing Libraries"
   ]
  },
  {
   "cell_type": "code",
   "execution_count": 1,
   "id": "a6e79f75",
   "metadata": {},
   "outputs": [],
   "source": [
    "import pandas as pd\n",
    "import numpy as np\n",
    "from z3 import *\n",
    "from itertools import combinations\n",
    "import sys\n",
    "sys.path.append('../../scripts/biota/')\n",
    "from BIoTA_Control import *\n",
    "sys.path.append('../../scripts/shatter/')\n",
    "from SHATTER_Control import *\n",
    "import warnings\n",
    "warnings.filterwarnings(\"ignore\")\n",
    "from sklearn.cluster import DBSCAN\n",
    "from scipy.spatial import ConvexHull, convex_hull_plot_2d"
   ]
  },
  {
   "cell_type": "markdown",
   "id": "545dc6c6",
   "metadata": {},
   "source": [
    "# Fixed Parameter"
   ]
  },
  {
   "cell_type": "code",
   "execution_count": 2,
   "id": "46f59a6f",
   "metadata": {},
   "outputs": [],
   "source": [
    "CO2_FRESH_AIR = 400             # CO2 concentration (ppm) of fresh air\n",
    "TEMP_FRESH_AIR = 91.4           # Temperature (33 degree F) of the fresh air\n",
    "CP_AIR = 1.026                  # Specific heat of fresh air\n",
    "DEF_TEMP_SUPPLY_AIR =  55.4     # Default temperature (degree fahrenheit) of supply air (13 degree celsius)\n",
    "MINUTES_IN_A_DAY = 1440         # Number of minutes in a day\n",
    "OFF_PEAK_ENERGY_COST = 0.34     # OFF-PEAK energy cost (USD)\n",
    "ON_PEAK_ENERGY_COST = 0.48      # ON-PEAK energy cost (USD)\n",
    "ON_PEAK_START_SLOT = 960        # ON-PEAK start time (minute in a day)\n",
    "ON_PEAK_END_SLOT = 1260         # ON-PEAK end time (minute in a day)\n",
    "BATTER_STORAGE = 0.48           # Energy (kWh) produced by battery"
   ]
  },
  {
   "cell_type": "markdown",
   "id": "9d6c9165",
   "metadata": {},
   "source": [
    "# Variable Parameters"
   ]
  },
  {
   "cell_type": "code",
   "execution_count": 3,
   "id": "6f2fe4f2",
   "metadata": {},
   "outputs": [],
   "source": [
    "zone_temp_setpoint = [0, 75.2, 75.2, 75.2, 75.2]     # list of temperature (fahrenheit) setpoint of the different zones\n",
    "zone_co2_setpoint = [0, 1000, 1000, 1000, 1000]      # list of CO2 (ppm) setpoint of the corresponding zones\n",
    "control_time = 1                                     # control time (in minute)"
   ]
  },
  {
   "cell_type": "markdown",
   "id": "9697b81a",
   "metadata": {},
   "source": [
    "# Accessing Zone-Activity Information"
   ]
  },
  {
   "cell_type": "code",
   "execution_count": 4,
   "id": "7f0a5afc",
   "metadata": {},
   "outputs": [],
   "source": [
    "zones = pd.read_excel('../../data/Aras-Information.xlsx', sheet_name='Zone-Info')\n",
    "zone_volume = zones[\"Volume (cf)\"].to_list()                  # Zones' volumes (cubic feet)\n",
    "pp_co2 = zones[\"CO2 Emission by Occupant (cfm)\"].to_list()    # CO2 Emission by Occupant (cfm)\n",
    "pp_heat = zones[\"Heat Radiation by Occupant (W)\"].to_list()   # Heat Radiation by Occupant (W)\n",
    "load = zones[\"Heat Radiated by Appliances (W)\"].to_list()     # Heat radiated by Appliances (W)\n",
    "        \n",
    "activities = pd.read_excel('../../data/Aras-Information.xlsx', sheet_name='Activity-Info')\n",
    "\n",
    "activity_zone_map = dict()\n",
    "for i in range(len(activities)):\n",
    "    activity_zone_map[int(activities[\"Activity ID\"][i])] = int(activities[\"Zone ID\"][i])"
   ]
  },
  {
   "cell_type": "markdown",
   "id": "d3b57edf",
   "metadata": {},
   "source": [
    "# Generating Possible Combination of Occupants"
   ]
  },
  {
   "cell_type": "code",
   "execution_count": 5,
   "id": "21dcf1b6",
   "metadata": {},
   "outputs": [
    {
     "data": {
      "text/plain": [
       "{(0, 0, 0, 0, 2),\n",
       " (0, 0, 0, 1, 1),\n",
       " (0, 0, 0, 2, 0),\n",
       " (0, 0, 1, 0, 1),\n",
       " (0, 0, 1, 1, 0),\n",
       " (0, 0, 2, 0, 0),\n",
       " (0, 1, 0, 0, 1),\n",
       " (0, 1, 0, 1, 0),\n",
       " (0, 1, 1, 0, 0),\n",
       " (0, 2, 0, 0, 0),\n",
       " (1, 0, 0, 0, 1),\n",
       " (1, 0, 0, 1, 0),\n",
       " (1, 0, 1, 0, 0),\n",
       " (1, 1, 0, 0, 0),\n",
       " (2, 0, 0, 0, 0)}"
      ]
     },
     "execution_count": 5,
     "metadata": {},
     "output_type": "execute_result"
    }
   ],
   "source": [
    "import itertools\n",
    "all_samples = list(itertools.permutations([1, 1, 0, 0, 0]))\n",
    "all_samples += list(itertools.permutations([2, 0, 0, 0, 0]))\n",
    "# however, there are repetations\n",
    "\n",
    "unique_samples = set()\n",
    "\n",
    "for data in all_samples:    \n",
    "    unique_samples.add(data)\n",
    "    \n",
    "unique_samples"
   ]
  },
  {
   "cell_type": "markdown",
   "id": "9bcf36e8",
   "metadata": {},
   "source": [
    "# Tabulate the Control Costs for all Possible Combinations"
   ]
  },
  {
   "cell_type": "code",
   "execution_count": 6,
   "id": "6ac3c21a",
   "metadata": {},
   "outputs": [
    {
     "data": {
      "text/plain": [
       "{(1, 0, 1, 0, 0): 0.006996611666666667,\n",
       " (1, 1, 0, 0, 0): 0.006524535000000001,\n",
       " (0, 0, 1, 0, 1): 0.036949184833333336,\n",
       " (2, 0, 0, 0, 0): 0.0,\n",
       " (0, 0, 0, 2, 0): 0.062190949333333335,\n",
       " (0, 0, 0, 0, 2): 0.03490514633333333,\n",
       " (0, 1, 0, 0, 1): 0.03647710816666667,\n",
       " (1, 0, 0, 0, 1): 0.029952573166666666,\n",
       " (0, 0, 1, 1, 0): 0.06309208633333334,\n",
       " (0, 2, 0, 0, 0): 0.012034600000000001,\n",
       " (0, 0, 0, 1, 1): 0.08604804783333334,\n",
       " (0, 1, 0, 1, 0): 0.06262000966666667,\n",
       " (0, 0, 2, 0, 0): 0.009909890000000001,\n",
       " (0, 1, 1, 0, 0): 0.013521146666666668,\n",
       " (1, 0, 0, 1, 0): 0.056095474666666666}"
      ]
     },
     "execution_count": 6,
     "metadata": {},
     "output_type": "execute_result"
    }
   ],
   "source": [
    "# convert list to a tuple\n",
    "def to_tuple(a):\n",
    "    try:\n",
    "        return tuple(to_tuple(i) for i in a)\n",
    "    except TypeError:\n",
    "        return a\n",
    "    \n",
    "dict_control_cost = dict()\n",
    "for sample in unique_samples:\n",
    "    zone_occupant = list(sample)    \n",
    "    dict_control_cost[sample] = control_cost(zones, zone_occupant, zone_temp_setpoint, zone_volume, pp_co2, pp_heat, load, zone_co2_setpoint, control_time)\n",
    "dict_control_cost"
   ]
  },
  {
   "cell_type": "markdown",
   "id": "7d0f1910",
   "metadata": {},
   "source": [
    "# Reading SHATTER Attack-Schedule Datasets"
   ]
  },
  {
   "cell_type": "code",
   "execution_count": 7,
   "id": "108f00df",
   "metadata": {},
   "outputs": [],
   "source": [
    "house_A_occ_1_final_schedule = pd.read_csv(\"../../data/shatter/DBSCAN_House-A_Occ-1_SHATTER_Schedule.csv\").values\n",
    "house_A_occ_2_final_schedule = pd.read_csv(\"../../data/shatter/DBSCAN_House-A_Occ-2_SHATTER_Schedule.csv\").values\n",
    "house_B_occ_1_final_schedule = pd.read_csv(\"../../data/shatter/DBSCAN_House-B_Occ-1_SHATTER_Schedule.csv\").values\n",
    "house_B_occ_2_final_schedule = pd.read_csv(\"../../data/shatter/DBSCAN_House-B_Occ-2_SHATTER_Schedule.csv\").values\n",
    "house_A_occ_1_greedy_schedule =  pd.read_csv(\"../../data/shatter/DBSCAN_House-A_Occ-1_Greedy_Schedule.csv\").values\n",
    "house_A_occ_2_greedy_schedule =  pd.read_csv(\"../../data/shatter/DBSCAN_House-A_Occ-2_Greedy_Schedule.csv\").values\n",
    "house_B_occ_1_greedy_schedule =  pd.read_csv(\"../../data/shatter/DBSCAN_House-B_Occ-1_Greedy_Schedule.csv\").values\n",
    "house_B_occ_2_greedy_schedule =  pd.read_csv(\"../../data/shatter/DBSCAN_House-B_Occ-2_Greedy_Schedule.csv\").values\n",
    "house_A_control_dataset = pd.read_csv('../../data/processed/Processed-Dataframe_House-A_BIoTA.csv')\n",
    "house_B_control_dataset = pd.read_csv('../../data/processed/Processed-Dataframe_House-A_BIoTA.csv')"
   ]
  },
  {
   "cell_type": "markdown",
   "id": "30b14049",
   "metadata": {},
   "source": [
    "# SHATTER Attack Cost Calculation for House-A (Daily)"
   ]
  },
  {
   "cell_type": "code",
   "execution_count": 8,
   "id": "4bc9e5fd",
   "metadata": {},
   "outputs": [
    {
     "name": "stdout",
     "output_type": "stream",
     "text": [
      "0\n",
      "1440\n",
      "2880\n",
      "4320\n",
      "5760\n",
      "7200\n",
      "8640\n",
      "10080\n",
      "11520\n",
      "12960\n",
      "14400\n",
      "15840\n",
      "17280\n",
      "18720\n",
      "20160\n",
      "21600\n",
      "23040\n",
      "24480\n",
      "25920\n",
      "27360\n",
      "28800\n",
      "30240\n",
      "31680\n",
      "33120\n",
      "34560\n",
      "36000\n",
      "37440\n",
      "38880\n",
      "40320\n",
      "41760\n"
     ]
    },
    {
     "data": {
      "text/plain": [
       "549.581020299794"
      ]
     },
     "execution_count": 8,
     "metadata": {},
     "output_type": "execute_result"
    }
   ],
   "source": [
    "day_wise_shatter_cost = []\n",
    "\n",
    "shatter_cost_house_A = []\n",
    "unit_energy_costs = []\n",
    "energy_consumptions = []\n",
    "prev_day = -1\n",
    "battery_usage = 0 # in kWh\n",
    "for j in range(0, 43200, 1440):\n",
    "    print(j)\n",
    "    day_wise_cost = 0\n",
    "    for i in range(len(house_A_occ_1_final_schedule)):\n",
    "        current_minute = i     \n",
    "        control_zone_occupants = house_A_control_dataset.iloc[j + i][2:].values\n",
    "\n",
    "        zone_occupants = [0, 0, 0, 0, 0]\n",
    "        if control_zone_occupants[0] == 2:\n",
    "            zone_occupants[0] = 2\n",
    "        elif control_zone_occupants[0] == 1:\n",
    "            zone_occupants[0] = 1\n",
    "            zone_occupants[int(house_A_occ_1_final_schedule[i])] += 1\n",
    "        elif control_zone_occupants[0] == 0:\n",
    "            zone_occupants[int(house_A_occ_1_final_schedule[i])] += 1\n",
    "            zone_occupants[int(house_A_occ_2_final_schedule[i])] += 1\n",
    "        energy_consumption = dict_control_cost[to_tuple(zone_occupants)]\n",
    "\n",
    "        if current_minute < ON_PEAK_START_SLOT or current_minute > ON_PEAK_END_SLOT:\n",
    "            unit_energy_cost = OFF_PEAK_ENERGY_COST\n",
    "        else:\n",
    "            if battery_usage < BATTER_STORAGE:\n",
    "                battery_usage += energy_consumption\n",
    "                unit_energy_cost = OFF_PEAK_ENERGY_COST\n",
    "            else:\n",
    "                unit_energy_cost = ON_PEAK_ENERGY_COST\n",
    "\n",
    "        current_cost = energy_consumption * unit_energy_cost\n",
    "        shatter_cost_house_A.append(current_cost)\n",
    "        unit_energy_costs.append(unit_energy_cost)\n",
    "        energy_consumptions.append(energy_consumption)\n",
    "        \n",
    "        day_wise_cost += current_cost\n",
    "    day_wise_shatter_cost.append(day_wise_cost)\n",
    "        #shatter_cost_house_A.append(dict_control_cost[to_tuple(zone_occupants)])  \n",
    "sum(shatter_cost_house_A)"
   ]
  },
  {
   "cell_type": "code",
   "execution_count": 10,
   "id": "4e058abb",
   "metadata": {},
   "outputs": [
    {
     "data": {
      "text/plain": [
       "549.5810202998188"
      ]
     },
     "execution_count": 10,
     "metadata": {},
     "output_type": "execute_result"
    }
   ],
   "source": [
    "sum(day_wise_shatter_cost)"
   ]
  },
  {
   "cell_type": "markdown",
   "id": "dba16a5a",
   "metadata": {},
   "source": [
    "# Greedy Attack Cost Calculation for House-A (Daily)"
   ]
  },
  {
   "cell_type": "code",
   "execution_count": null,
   "id": "ce8d6b6f",
   "metadata": {},
   "outputs": [],
   "source": [
    "day_wise_greedy_attck_cost = []\n",
    "greedy_cost_house_A = []\n",
    "unit_energy_costs = []\n",
    "energy_consumptions = []\n",
    "prev_day = -1\n",
    "battery_usage = 0 # in kWh\n",
    "\n",
    "for j in range(0, 43200, 1440):\n",
    "    print(j)\n",
    "    for i in range(len(house_A_occ_1_greedy_schedule)):\n",
    "        current_minute = i    \n",
    "        control_zone_occupants = house_A_control_dataset.iloc[j + i][2:].values\n",
    "\n",
    "        zone_occupants = [0, 0, 0, 0, 0]\n",
    "        if control_zone_occupants[0] == 2:\n",
    "            zone_occupants[0] = 2\n",
    "        elif control_zone_occupants[0] == 1:\n",
    "            zone_occupants[0] = 1\n",
    "            zone_occupants[int(house_A_occ_1_greedy_schedule[i])] += 1\n",
    "        elif control_zone_occupants[0] == 0:\n",
    "            zone_occupants[int(house_A_occ_1_greedy_schedule[i])] += 1\n",
    "            zone_occupants[int(house_A_occ_2_greedy_schedule[i])] += 1\n",
    "\n",
    "        energy_consumption = dict_control_cost[to_tuple(zone_occupants)]\n",
    "\n",
    "        if current_minute < ON_PEAK_START_SLOT or current_minute > ON_PEAK_END_SLOT:\n",
    "            unit_energy_cost = OFF_PEAK_ENERGY_COST\n",
    "        else:\n",
    "            if battery_usage < BATTER_STORAGE:\n",
    "                battery_usage += energy_consumption\n",
    "                unit_energy_cost = OFF_PEAK_ENERGY_COST\n",
    "            else:\n",
    "                unit_energy_cost = ON_PEAK_ENERGY_COST\n",
    "\n",
    "        current_cost = energy_consumption * unit_energy_cost\n",
    "        greedy_cost_house_A.append(current_cost)\n",
    "        unit_energy_costs.append(unit_energy_cost)\n",
    "        energy_consumptions.append(energy_consumption)\n",
    "sum(greedy_cost_house_A) "
   ]
  },
  {
   "cell_type": "markdown",
   "id": "300ff017",
   "metadata": {},
   "source": [
    "# Greedy Attack Cost Calculation for House-B (Daily)"
   ]
  },
  {
   "cell_type": "code",
   "execution_count": null,
   "id": "4a5b515d",
   "metadata": {},
   "outputs": [],
   "source": [
    "greedy_cost_house_B = []\n",
    "\n",
    "for i in range(len(house_B_occ_1_greedy_schedule)):\n",
    "    zone_occupants = [0, 0, 0, 0, 0]\n",
    "    zone_occupants[int(house_B_occ_1_greedy_schedule[i])] += 1\n",
    "    zone_occupants[int(house_B_occ_2_greedy_schedule[i])] += 1\n",
    "    greedy_cost_house_B.append(dict_control_cost[to_tuple(zone_occupants)])  \n",
    "sum(greedy_cost_house_B) "
   ]
  },
  {
   "cell_type": "markdown",
   "id": "28a14bab",
   "metadata": {},
   "source": [
    "# Accessing Zone-Activity-Appliances Information"
   ]
  },
  {
   "cell_type": "code",
   "execution_count": null,
   "id": "2fa636da",
   "metadata": {},
   "outputs": [],
   "source": [
    "zones = pd.read_excel('../../data/Aras-Information.xlsx', sheet_name='Zone-Info')\n",
    "zone_volume = zones[\"Volume (cf)\"].to_list()                    \n",
    "        \n",
    "activities = pd.read_excel('../../data/Aras-Information.xlsx', sheet_name='Activity-Info')\n",
    "energy_appliances = pd.read_excel('../../data/Aras-Information.xlsx', sheet_name='Appliances-Info').iloc[:,-1].to_numpy()\n",
    "\n",
    "num_activities = len(activities)  \n",
    "\n",
    "activity_zone_map = dict()\n",
    "for i in range(num_activities):\n",
    "    activity_zone_map[int(activities[\"Activity ID\"][i])] = int(activities[\"Zone ID\"][i])\n",
    "\n",
    "benign_activity_appliances_map = pd.read_excel('../../data/Aras-Information.xlsx', sheet_name='Benign-Activity-Appliances-Map').iloc[:, 4:].to_numpy()\n",
    "  \n",
    "activity_zone_temp_setpoint = [0]\n",
    "activity_zone_co2_setpoint = [0] \n",
    "activity_pp_co2 = [0] + activities['CO2 Emission by Occupant (CFM)'].to_list()    # CO2 Emission by Occupant (cfm)\n",
    "activity_pp_heat = [0] + activities[\"Heat Radiation by Occupant (W)\"].to_list()   # Heat Radiation by Occupant (W)\n",
    "activity_load = [0]# Heat radiated by Appliances (W)\n",
    "activity_zone_volume = [0]\n",
    "\n",
    "for i in range(1, num_activities + 1):\n",
    "    activity_zone_temp_setpoint.append(zone_temp_setpoint[activity_zone_map[i]])\n",
    "    activity_zone_co2_setpoint.append(zone_co2_setpoint[activity_zone_map[i]])\n",
    "    activity_zone_volume.append(zone_volume[activity_zone_map[i]])\n",
    "    activity_load.append(sum(benign_activity_appliances_map[i] * energy_appliances))"
   ]
  },
  {
   "cell_type": "markdown",
   "id": "654be18f",
   "metadata": {},
   "source": [
    "# Generating Possible Combination of Occupants"
   ]
  },
  {
   "cell_type": "code",
   "execution_count": null,
   "id": "a32a5dc1",
   "metadata": {},
   "outputs": [],
   "source": [
    "activities = [i for i in range(1, num_activities + 1)]\n",
    "\n",
    "indexes = list(combinations(activities, 2))\n",
    "\n",
    "unique_samples = np.zeros((len(indexes) + num_activities, num_activities + 1))\n",
    "\n",
    "for i in range(len(indexes)):\n",
    "    unique_samples[i][indexes[i][0]] = 1\n",
    "    unique_samples[i][indexes[i][1]] = 1\n",
    "\n",
    "count = 1\n",
    "for i in range(len(indexes), len(indexes) + num_activities):\n",
    "    unique_samples[i][count] = 2\n",
    "    count += 1"
   ]
  },
  {
   "cell_type": "markdown",
   "id": "abb0cbe7",
   "metadata": {},
   "source": [
    "# Tabulate the Control Costs for all Possible Combinations"
   ]
  },
  {
   "cell_type": "code",
   "execution_count": null,
   "id": "c188dd02",
   "metadata": {},
   "outputs": [],
   "source": [
    "# convert list to a tuple\n",
    "def to_tuple(a):\n",
    "    try:\n",
    "        return tuple(to_tuple(i) for i in a)\n",
    "    except TypeError:\n",
    "        return a\n",
    "    \n",
    "dict_control_cost = dict()\n",
    "for i in range(len(unique_samples)):\n",
    "    print(i)\n",
    "    sample = unique_samples[i]\n",
    "    activity_zone_occupant = sample.tolist()\n",
    "    dict_control_cost[to_tuple(sample)] = shatter_control_cost(activity_zone_occupant, activity_zone_temp_setpoint, activity_zone_volume, activity_pp_co2, activity_pp_heat, activity_load, activity_zone_co2_setpoint, control_time)\n",
    "dict_control_cost"
   ]
  },
  {
   "cell_type": "markdown",
   "id": "4a1adc6b",
   "metadata": {},
   "source": [
    "# Zone-wise Appliances"
   ]
  },
  {
   "cell_type": "code",
   "execution_count": null,
   "id": "3079aed3",
   "metadata": {},
   "outputs": [],
   "source": [
    "zone_appliance = []\n",
    "zone_appliance.append([1, 2]) #0\n",
    "zone_appliance.append([11, 16, 17, 23, 27]) #1\n",
    "zone_appliance.append([12, 13, 18, 22, 25, 26]) #2\n",
    "zone_appliance.append([3, 4, 5, 6, 7, 8, 9, 10, 19, 24]) #3\n",
    "zone_appliance.append([14, 15, 20, 21]) #4\n",
    "\n",
    "for i in range(len(zone_appliance)):\n",
    "    print(len(zone_appliance[i]))"
   ]
  },
  {
   "cell_type": "markdown",
   "id": "a0078280",
   "metadata": {},
   "source": [
    "# Zone-wise Maximum Cost For Appliances"
   ]
  },
  {
   "cell_type": "code",
   "execution_count": null,
   "id": "0a04c69f",
   "metadata": {},
   "outputs": [],
   "source": [
    "zone_cost = [0, 0, 0, 0, 0]\n",
    "for i in range(len(zone_cost)):\n",
    "    all_costs = []\n",
    "    for j in range(len(zone_appliance[i])):\n",
    "        all_costs.append(activity_load[zone_appliance[i][j]])\n",
    "    zone_cost[i] =  max(all_costs)\n",
    "zone_cost"
   ]
  },
  {
   "cell_type": "code",
   "execution_count": null,
   "id": "ea5c8eb8",
   "metadata": {},
   "outputs": [],
   "source": [
    "activity_load[zone_appliance[0]]"
   ]
  },
  {
   "cell_type": "markdown",
   "id": "e399650e",
   "metadata": {},
   "source": [
    "# Clustering and Convex Hull"
   ]
  },
  {
   "cell_type": "code",
   "execution_count": null,
   "id": "e5cc11ba",
   "metadata": {},
   "outputs": [],
   "source": [
    "# returns dbscan clusters\n",
    "def dbscan(X, eps, min_samples):\n",
    "    db = DBSCAN(eps=eps, min_samples=min_samples)\n",
    "    cluster = db.fit(X)\n",
    "    #y_pred = db.fit_predict(X)\n",
    "    #plt.scatter(X[:,0], X[:,1],c=y_pred, cmap='Paired')\n",
    "    #plt.title(\"DBSCAN\")\n",
    "    #print(\"noise\", sum(cluster.labels_ ==-1), \"regular\", sum(cluster.labels_ !=-1))\n",
    "    #print(np.unique(cluster.labels_))\n",
    "    return cluster\n",
    "\n",
    "# returns convex hull of points associated with zones\n",
    "def convex_hull(zone, points):\n",
    "        '''\n",
    "        Parameters\n",
    "        ----------\n",
    "        points : Array\n",
    "            A set of points.\n",
    "            \n",
    "        Returns\n",
    "        -------\n",
    "        vertices : Points\n",
    "            Arranges convex hull vertices in counter-clockwise orientation.\n",
    "        '''    \n",
    "        \n",
    "        hull = ConvexHull(points)\n",
    "        \n",
    "        \n",
    "        #plt.plot(points[:,0], points[:,1], 'o')\n",
    "        #plt.ylim(0,120)\n",
    "        #for simplex in hull.simplices:\n",
    "        #    plt.plot(points[simplex, 0], points[simplex, 1], 'k-')\n",
    "            \n",
    "        simplices = hull.simplices\n",
    "        \n",
    "        vertices = []\n",
    "        for index in hull.vertices:\n",
    "            vertices.append((points[index][0], zone, points[index][1]))\n",
    "        vertices.append((points[hull.vertices[0]][0], zone, points[hull.vertices[0]][1]))\n",
    "        \n",
    "        return vertices"
   ]
  },
  {
   "cell_type": "markdown",
   "id": "a2c87e03",
   "metadata": {},
   "source": [
    "# Cluster Boundary Acquisition"
   ]
  },
  {
   "cell_type": "code",
   "execution_count": null,
   "id": "870c4374",
   "metadata": {},
   "outputs": [],
   "source": [
    "def get_cluster(dataframe, column, eps, min_samples):\n",
    "    list_cluster = []\n",
    "    for zone in range(num_zones):\n",
    "        #plt.figure()\n",
    "        mod_dataframe = pd.DataFrame()\n",
    "\n",
    "        for i in range(len(dataframe)):\n",
    "            if int(dataframe[column][i] == zone):\n",
    "                mod_dataframe = mod_dataframe.append(dataframe.loc[i, ['Start Time', 'Duration']])\n",
    "\n",
    "        features = np.empty([len(mod_dataframe), 2])\n",
    "        features[:, 0:1] = mod_dataframe.loc[:, ['Start Time']].values\n",
    "        features[:, 1:] = mod_dataframe.loc[:, ['Duration']].values\n",
    "        cluster_model = dbscan(features, eps, min_samples)\n",
    "        labels = cluster_model.labels_\n",
    "        n_clusters = len(set(labels)) - (1 if -1 in labels else 0)\n",
    "        for cluster in range(n_clusters):\n",
    "            points = []\n",
    "            for k in range(len(labels)):\n",
    "                if labels[k] == cluster:\n",
    "                    points.append(features[k])\n",
    "            points = np.array(points)\n",
    "\n",
    "            if len(points) >= 3:\n",
    "                vertices = convex_hull(zone, points)\n",
    "            else:\n",
    "                print(\"zone\", zone, \"Problem Found!\")\n",
    "\n",
    "            list_cluster.append({\"zone_id\": zone, \"cluster_id\": cluster, \"points\": vertices})\n",
    "\n",
    "    return list_cluster"
   ]
  },
  {
   "cell_type": "markdown",
   "id": "d5bbd446",
   "metadata": {},
   "source": [
    "# Reading Clean Dataframes"
   ]
  },
  {
   "cell_type": "code",
   "execution_count": null,
   "id": "938be3dc",
   "metadata": {},
   "outputs": [],
   "source": [
    "cleaned_duration_dataframe_house_A_occ_1 = pd.read_csv(\"../../data/cleaned/Cleaned-Duration-Dataframe_House-A_Occ-1.csv\")\n",
    "cleaned_duration_dataframe_house_A_occ_2 = pd.read_csv(\"../../data/cleaned/Cleaned-Duration-Dataframe_House-A_Occ-2.csv\")\n",
    "cleaned_duration_dataframe_house_B_occ_1 = pd.read_csv(\"../../data/cleaned/Cleaned-Duration-Dataframe_House-B_Occ-1.csv\")\n",
    "cleaned_duration_dataframe_house_B_occ_2 = pd.read_csv(\"../../data/cleaned/Cleaned-Duration-Dataframe_House-B_Occ-2.csv\")"
   ]
  },
  {
   "cell_type": "markdown",
   "id": "f618c566",
   "metadata": {},
   "source": [
    "# Get Cluster Information"
   ]
  },
  {
   "cell_type": "code",
   "execution_count": null,
   "id": "70e679a8",
   "metadata": {},
   "outputs": [],
   "source": [
    "clusters_house_A_occ_1 = get_cluster(cleaned_duration_dataframe_house_A_occ_1, \"Occupant-1 Zone ID\", 20, 3)\n",
    "clusters_house_A_occ_2 = get_cluster(cleaned_duration_dataframe_house_A_occ_2, \"Occupant-2 Zone ID\", 20, 3)\n",
    "clusters_house_B_occ_1 = get_cluster(cleaned_duration_dataframe_house_B_occ_1, \"Occupant-1 Zone ID\", 30, 3)\n",
    "clusters_house_B_occ_2 = get_cluster(cleaned_duration_dataframe_house_B_occ_2, \"Occupant-2 Zone ID\", 30, 3)"
   ]
  },
  {
   "cell_type": "markdown",
   "id": "fedca586",
   "metadata": {},
   "source": [
    "# Range Claculation Function"
   ]
  },
  {
   "cell_type": "code",
   "execution_count": null,
   "id": "bbbf801e",
   "metadata": {},
   "outputs": [],
   "source": [
    "def is_left( x, y, init_x, init_y, final_x, final_y):\n",
    "     return ((final_x - init_x)*(y - init_y) - (final_y - init_y)*(x - init_x)) >= 0\n",
    "\n",
    "def range_calculation(list_cluster):\n",
    "    num_timeslots = 1440\n",
    "    list_time_min = [[[] for j in range(num_timeslots)] for i in range(num_zones + 1)]\n",
    "    list_time_max = [[[] for j in range(num_timeslots)] for i in range(num_zones + 1)]\n",
    "\n",
    "    for i in range(len(list_cluster)):\n",
    "        zone_id = list_cluster[i][\"zone_id\"]\n",
    "        min_x_range = 1440\n",
    "        max_x_range = 0\n",
    "\n",
    "        ##################################################################\n",
    "        ##################### Zone Constraints ###########################\n",
    "        ##################################################################\n",
    "        x = Int('x')\n",
    "        y = Int('y')\n",
    "\n",
    "        points = list_cluster[i][\"points\"]\n",
    "        zone_constraints = []\n",
    "\n",
    "        and_constraints = []\n",
    "        for j in range(len(points) - 1):\n",
    "            and_constraints.append(is_left(x, y, points[j][0], points[j][2], points[j + 1][0], points[j + 1][2]))\n",
    "\n",
    "        zone_constraints.append(And(and_constraints))\n",
    "\n",
    "        #print(zone_constraints)\n",
    "        ####### Minimum value of X range #######\n",
    "        o = Optimize()\n",
    "        o.add(zone_constraints)\n",
    "        o.minimize(x)\n",
    "        o.check()\n",
    "        \n",
    "        min_x_range = int(str(o.model()[x]))\n",
    "\n",
    "        ####### Maximum value of X range #######\n",
    "        o = Optimize()\n",
    "        o.add(zone_constraints)\n",
    "        o.maximize(x)\n",
    "        o.check()\n",
    "        #print(o.model()[x])\n",
    "\n",
    "        max_x_range = int(str(o.model()[x]))\n",
    "        \n",
    "        \n",
    "        for j in range(min_x_range, max_x_range):\n",
    "            ####### Minimum value of Y range #######\n",
    "            o = Optimize()\n",
    "            o.add(zone_constraints)\n",
    "            o.add(x == j)\n",
    "            o.minimize(y)\n",
    "            o.check()\n",
    "\n",
    "            min_y_range = o.model()[y]\n",
    "            if min_y_range == None:\n",
    "                min_y_range = 0\n",
    "\n",
    "            ####### Maximum value of Y range #######\n",
    "            o = Optimize()\n",
    "            o.add(zone_constraints)\n",
    "            o.add(x == j)\n",
    "            o.maximize(y)\n",
    "            o.check()\n",
    "\n",
    "            max_y_range = o.model()[y]\n",
    "            if max_y_range == None:\n",
    "                max_y_range = 0\n",
    "                \n",
    "            list_time_min[zone_id][j].append(int(str(min_y_range)))\n",
    "            list_time_max[zone_id][j].append(int(str(max_y_range)))\n",
    "    return list_time_min, list_time_max"
   ]
  },
  {
   "cell_type": "markdown",
   "id": "034d9633",
   "metadata": {},
   "source": [
    "# Range Calculation (House A)"
   ]
  },
  {
   "cell_type": "code",
   "execution_count": null,
   "id": "4f3fc193",
   "metadata": {},
   "outputs": [],
   "source": [
    "num_zones = 5\n",
    "list_time_min_house_A_occ_1, list_time_max_house_A_occ_1 = range_calculation(clusters_house_A_occ_1)\n",
    "list_time_min_house_A_occ_2, list_time_max_house_A_occ_2 = range_calculation(clusters_house_A_occ_2)"
   ]
  },
  {
   "cell_type": "markdown",
   "id": "065ed3a2",
   "metadata": {},
   "source": [
    "# House-A Appliance Triggerring Cost Calculation"
   ]
  },
  {
   "cell_type": "code",
   "execution_count": null,
   "id": "8c7ea63c",
   "metadata": {},
   "outputs": [],
   "source": [
    "occ_1_zones = []\n",
    "occ_2_zones = []\n",
    "\n",
    "clean_dataframe_house_A = pd.read_csv(\"../../data/cleaned/clean_dataframe_house_A.csv\")\n",
    "\n",
    "for i in range(len(clean_dataframe_house_A)):\n",
    "    occ_1_zones.append(activity_zone_map[clean_dataframe_house_A['Occupant-1 Activity'][i]])\n",
    "    occ_2_zones.append(activity_zone_map[clean_dataframe_house_A['Occupant-2 Activity'][i]])\n",
    "\n",
    "clean_dataframe_house_A['Occupant-1 Zone'] = occ_1_zones\n",
    "clean_dataframe_house_A['Occupant-2 Zone'] = occ_2_zones"
   ]
  },
  {
   "cell_type": "code",
   "execution_count": null,
   "id": "f5678888",
   "metadata": {},
   "outputs": [],
   "source": [
    "clean_dataframe_house_A"
   ]
  },
  {
   "cell_type": "code",
   "execution_count": null,
   "id": "69798870",
   "metadata": {},
   "outputs": [],
   "source": [
    "day_wise_appl_cost_house_A_occ_1 = []\n",
    "## house A occ 1\n",
    "for i in range(0, 43200, 1440):\n",
    "    cost = 0\n",
    "    entrances = []\n",
    "    prev_zone = clean_dataframe_house_A['Occupant-1 Zone'][i]\n",
    "    attackable = np.zeros((1440))\n",
    "    for j in range(i, i + 1440):\n",
    "        zone_occupants = [0, 0, 0, 0, 0]\n",
    "        zone_occupants[clean_dataframe_house_A['Occupant-1 Zone'][j]] += 1\n",
    "        zone_occupants[clean_dataframe_house_A['Occupant-2 Zone'][j]] += 1\n",
    "        # print(zone_occupants)\n",
    "        if clean_dataframe_house_A['Occupant-1 Zone'][j] != prev_zone:\n",
    "            entrances.append([j%1440, clean_dataframe_house_A['Occupant-1 Zone'][j]])\n",
    "            prev_zone = clean_dataframe_house_A['Occupant-1 Zone'][j]\n",
    "    for j in range(len(entrances) - 1):\n",
    "        zone = entrances[j][1]\n",
    "        time = entrances[j][0] \n",
    "        #print(entrances[j], zone, time)\n",
    "        #print(list_time_min_house_A_occ_1[zone][time])\n",
    "        if len(list_time_min_house_A_occ_1[zone][time]) == 0:\n",
    "            #print(\"Here\")\n",
    "            attack_time = 0\n",
    "        else:\n",
    "            attack_time = min(entrances[j + 1][0] - entrances[j][0], list_time_min_house_A_occ_1[zone][time][0])\n",
    "        attackable[entrances[j][0] : entrances[j][0] + attack_time] = 1\n",
    "        #print(entrances[j][0], attack_time)\n",
    "    for j in range(len(attackable)):\n",
    "        if attackable[j] == 1:\n",
    "            COST_PER_KWH = 0.1137 \n",
    "            cost += (zone_cost[house_A_occ_1_final_schedule[j][0]] / 60000 ) * COST_PER_KWH\n",
    "    day_wise_appl_cost_house_A_occ_1.append(cost)"
   ]
  },
  {
   "cell_type": "code",
   "execution_count": null,
   "id": "e6a0bb88",
   "metadata": {},
   "outputs": [],
   "source": [
    "day_wise_appl_cost_house_A_occ_2 = []\n",
    "## house A occ 1\n",
    "for i in range(0, 43200, 1440):\n",
    "    cost = 0\n",
    "    entrances = []\n",
    "    prev_zone = clean_dataframe_house_A['Occupant-2 Zone'][i]\n",
    "    attackable = np.zeros((1440))\n",
    "    for j in range(i, i + 1440):\n",
    "        zone_occupants = [0, 0, 0, 0, 0]\n",
    "        zone_occupants[clean_dataframe_house_A['Occupant-1 Zone'][j]] += 1\n",
    "        zone_occupants[clean_dataframe_house_A['Occupant-2 Zone'][j]] += 1\n",
    "        # print(zone_occupants)\n",
    "        if clean_dataframe_house_A['Occupant-2 Zone'][j] != prev_zone:\n",
    "            entrances.append([j%1440, clean_dataframe_house_A['Occupant-2 Zone'][j]])\n",
    "            prev_zone = clean_dataframe_house_A['Occupant-2 Zone'][j]\n",
    "    for j in range(len(entrances) - 1):\n",
    "        zone = entrances[j][1]\n",
    "        time = entrances[j][0] \n",
    "        #print(entrances[j], zone, time)\n",
    "        #print(list_time_min_house_A_occ_1[zone][time])\n",
    "        if len(list_time_min_house_A_occ_2[zone][time]) == 0:\n",
    "            #print(\"Here\")\n",
    "            attack_time = 0\n",
    "        else:\n",
    "            attack_time = min(entrances[j + 1][0] - entrances[j][0], list_time_min_house_A_occ_2[zone][time][0])\n",
    "        attackable[entrances[j][0] : entrances[j][0] + attack_time] = 1\n",
    "        #print(entrances[j][0], attack_time)\n",
    "    for j in range(len(attackable)):\n",
    "        if attackable[j] == 1:\n",
    "            COST_PER_KWH = 0.1137 \n",
    "            cost += (zone_cost[house_A_occ_2_final_schedule[j][0]] / 60000 ) * COST_PER_KWH\n",
    "    day_wise_appl_cost_house_A_occ_2.append(cost)"
   ]
  },
  {
   "cell_type": "code",
   "execution_count": null,
   "id": "a841a8c2",
   "metadata": {},
   "outputs": [],
   "source": [
    "house_A_appl_cost = np.array(day_wise_appl_cost_house_A_occ_1) + np.array(day_wise_appl_cost_house_A_occ_2)"
   ]
  },
  {
   "cell_type": "code",
   "execution_count": null,
   "id": "5a225c3a",
   "metadata": {},
   "outputs": [],
   "source": [
    "house_A_appl_cost"
   ]
  },
  {
   "cell_type": "code",
   "execution_count": null,
   "id": "a0cb4011",
   "metadata": {},
   "outputs": [],
   "source": [
    "np.savetxt('../../data/shatter/SHATTER-Attack_House-A_Appl-Cost.csv', house_A_appl_cost, delimiter=',')"
   ]
  }
 ],
 "metadata": {
  "kernelspec": {
   "display_name": "Python 3 (ipykernel)",
   "language": "python",
   "name": "python3"
  },
  "language_info": {
   "codemirror_mode": {
    "name": "ipython",
    "version": 3
   },
   "file_extension": ".py",
   "mimetype": "text/x-python",
   "name": "python",
   "nbconvert_exporter": "python",
   "pygments_lexer": "ipython3",
   "version": "3.9.7"
  }
 },
 "nbformat": 4,
 "nbformat_minor": 5
}
