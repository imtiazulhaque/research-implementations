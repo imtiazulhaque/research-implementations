{
 "cells": [
  {
   "cell_type": "markdown",
   "id": "5535b30a",
   "metadata": {},
   "source": [
    "# Import Libraries"
   ]
  },
  {
   "cell_type": "code",
   "execution_count": 1,
   "id": "18baafed",
   "metadata": {},
   "outputs": [],
   "source": [
    "import pandas as pd\n",
    "import numpy as np\n",
    "import math"
   ]
  },
  {
   "cell_type": "markdown",
   "id": "425d0b3b",
   "metadata": {},
   "source": [
    "# Read Activity Information"
   ]
  },
  {
   "cell_type": "code",
   "execution_count": 2,
   "id": "22087e66",
   "metadata": {},
   "outputs": [],
   "source": [
    "activities = pd.read_excel('Aras-Information.xlsx', sheet_name='Activity-Info')"
   ]
  },
  {
   "cell_type": "markdown",
   "id": "180aa054",
   "metadata": {},
   "source": [
    "# Accessing Activity-Zone Mapping Information"
   ]
  },
  {
   "cell_type": "code",
   "execution_count": 3,
   "id": "c30e880d",
   "metadata": {},
   "outputs": [],
   "source": [
    "activity_zone_map = dict()\n",
    "for i in range(len(activities)):\n",
    "    activity_zone_map[int(activities[\"Activity ID\"][i])] = int(activities[\"Zone ID\"][i])"
   ]
  },
  {
   "cell_type": "markdown",
   "id": "ce4b897c",
   "metadata": {},
   "source": [
    "# Constants"
   ]
  },
  {
   "cell_type": "code",
   "execution_count": 4,
   "id": "d9b238d5",
   "metadata": {},
   "outputs": [],
   "source": [
    "NUM_DAYS = 30\n",
    "NUM_ACTIVITIES = len(activities)"
   ]
  },
  {
   "cell_type": "markdown",
   "id": "0a8fffb1",
   "metadata": {},
   "source": [
    "# Dataset Cleaning Function"
   ]
  },
  {
   "cell_type": "code",
   "execution_count": 5,
   "id": "73fa2e56",
   "metadata": {},
   "outputs": [],
   "source": [
    "def dataset_cleaning(house, occupant, filename_cleaned_dataset):\n",
    "    records = []\n",
    "\n",
    "    for day in range(1, NUM_DAYS + 1):    \n",
    "        # Importing dataset\n",
    "        raw_filename = 'raw/house-' + house +'/DAY-' + str(day) + '.txt'\n",
    "        raw_dataframe =  pd.read_csv(str(raw_filename), header=None, sep = ' ').iloc[:, -2:]\n",
    "\n",
    "        raw_dataframe.columns = ['Occ-1', 'Occ-2']\n",
    "\n",
    "        if occupant == 1:\n",
    "            activities_occupant = raw_dataframe['Occ-1'].to_list()\n",
    "        elif occupant == 2:\n",
    "            activities_occupant = raw_dataframe['Occ-2'].to_list()\n",
    "\n",
    "        arrival_times_occupant = []\n",
    "        zones_occupant = []\n",
    "        zone_activities_occupant = []\n",
    "\n",
    "        prev_zone_occupant = -1\n",
    "\n",
    "        for second in range(0, len(activities_occupant) - 60, 60):\n",
    "            minute = int(math.ceil(second / 60))\n",
    "            current_zone_occupant = activity_zone_map[activities_occupant[second]]\n",
    "\n",
    "            #print(current_zone_occupant, prev_zone_occupant)\n",
    "\n",
    "            if prev_zone_occupant != current_zone_occupant:\n",
    "                arrival_times_occupant.append(minute)\n",
    "                zones_occupant.append(current_zone_occupant)\n",
    "                zone_activities_occupant.append(activities_occupant[second])\n",
    "                prev_zone_occupant = current_zone_occupant\n",
    "\n",
    "            prev_activity_occupant = activities_occupant[second]\n",
    "\n",
    "        exit_times_occupant = []\n",
    "\n",
    "        for et in range(1, len(arrival_times_occupant)):\n",
    "            exit_times_occupant.append(arrival_times_occupant[et] - 1)\n",
    "        exit_times_occupant.append(1439)\n",
    "\n",
    "        for et in range(len(arrival_times_occupant)):\n",
    "            stay_duration = exit_times_occupant[et] - arrival_times_occupant[et]\n",
    "            if stay_duration == 0 and et != len(arrival_times_occupant) - 1:\n",
    "                arrival_times_occupant[et + 1] -= 1\n",
    "            else:\n",
    "                records.append([day, zone_activities_occupant[et], zones_occupant[et], arrival_times_occupant[et], exit_times_occupant[et], stay_duration])      \n",
    "    cleaned_dataset = pd.DataFrame(columns = ['Day', 'Occupant\\'s Activity', 'Occupant\\'s Zone', 'Zone Arrival Time (Minute)', 'Zone Leaving Time (Minute)', 'Stay Duration (Minute)'], data = records)\n",
    "    cleaned_dataset.to_csv(filename_cleaned_dataset, index=False)"
   ]
  },
  {
   "cell_type": "markdown",
   "id": "719f6a20",
   "metadata": {},
   "source": [
    "# Saving Cleaned Datasets"
   ]
  },
  {
   "cell_type": "code",
   "execution_count": 6,
   "id": "0a0bd8d0",
   "metadata": {},
   "outputs": [],
   "source": [
    "dataset_cleaning('A', 1, 'cleaned/Cleaned-Dataframe_House-A_Occupant-1.csv')\n",
    "dataset_cleaning('A', 2, 'cleaned/Cleaned-Dataframe_House-A_Occupant-2.csv')\n",
    "dataset_cleaning('B', 1, 'cleaned/Cleaned-Dataframe_House-B_Occupant-1.csv')\n",
    "dataset_cleaning('B', 2, 'cleaned/Cleaned-Dataframe_House-B_Occupant-2.csv')"
   ]
  }
 ],
 "metadata": {
  "kernelspec": {
   "display_name": "Python 3 (ipykernel)",
   "language": "python",
   "name": "python3"
  },
  "language_info": {
   "codemirror_mode": {
    "name": "ipython",
    "version": 3
   },
   "file_extension": ".py",
   "mimetype": "text/x-python",
   "name": "python",
   "nbconvert_exporter": "python",
   "pygments_lexer": "ipython3",
   "version": "3.9.7"
  }
 },
 "nbformat": 4,
 "nbformat_minor": 5
}
